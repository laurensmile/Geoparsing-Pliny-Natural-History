{
 "cells": [
  {
   "cell_type": "markdown",
   "id": "cc3327ca",
   "metadata": {},
   "source": [
    "# Group tokens into Sentences in Book 4 (English)"
   ]
  },
  {
   "cell_type": "markdown",
   "id": "cfb1bc6c",
   "metadata": {},
   "source": [
    "Using the file with the enriched ToposText annotation, we group tokens into sentences. Starting from the token with index 0, we set count_sentence = 0. If the token is a punctuation mark ('.', '?',or '!'), the token that follows has count_sentence = count_sentence + 1. The token is then associated to a unique ID composed by reference.count_sentence.start_position. \n",
    "\n",
    "In total, 509 sentences were counted in the entire Book 4.\n",
    "\n",
    "Finally, to perform sentence embeddings in the next step, sentences are stored in a text file."
   ]
  },
  {
   "cell_type": "code",
   "execution_count": null,
   "id": "cf8d1228",
   "metadata": {},
   "outputs": [],
   "source": [
    "import pandas as pd"
   ]
  },
  {
   "cell_type": "code",
   "execution_count": null,
   "id": "06b7f8dd",
   "metadata": {},
   "outputs": [],
   "source": [
    "## open the file containing the enriched ToposText annotation (18,664 entries)\n",
    "Enriched_ToposText_Book4 = pd.read_csv(\"/Users/u0154817/OneDrive - KU Leuven/Documents/KU Leuven/PhD project 'Greek Spaces in Roman Times'/Data_Extraction/Outputs/3.2.Enriched_ToposText_Book4.csv\")"
   ]
  },
  {
   "cell_type": "code",
   "execution_count": null,
   "id": "7bb9d2fc",
   "metadata": {},
   "outputs": [],
   "source": [
    "len(Enriched_ToposText_Book4)"
   ]
  },
  {
   "cell_type": "code",
   "execution_count": null,
   "id": "ce49b056",
   "metadata": {},
   "outputs": [],
   "source": [
    "count_sentence = 0 ## set the count sentence to 0\n",
    "\n",
    "sentences_list = []\n",
    "ids_list = []\n",
    "punctuations = ['.', '!', '?']\n",
    "\n",
    "for i, token in enumerate(Enriched_ToposText_Book4['Token']):\n",
    "    sentences_list.append(count_sentence)\n",
    "    token_ID = str(Enriched_ToposText_Book4['Reference'][i])+'.'+str(count_sentence)+'.'+str(Enriched_ToposText_Book4['Start_pos'][i])\n",
    "    ids_list.append(token_ID)\n",
    "    if token in punctuations:\n",
    "        count_sentence = count_sentence + 1"
   ]
  },
  {
   "cell_type": "code",
   "execution_count": null,
   "id": "68463947",
   "metadata": {},
   "outputs": [],
   "source": [
    "Enriched_ToposText_Book4['Sentence'] = sentences_list\n",
    "Enriched_ToposText_Book4['Token_ID'] = ids_list"
   ]
  },
  {
   "cell_type": "code",
   "execution_count": null,
   "id": "0d3e5b2c",
   "metadata": {},
   "outputs": [],
   "source": [
    "## test: print sentence 0\n",
    "\n",
    "## filter all the rows containing sentence = 0\n",
    "filtered_rows = Enriched_ToposText_Book4[Enriched_ToposText_Book4['Sentence'] == 0]\n",
    "\n",
    "## concatenate the tokens in filtered_rows\n",
    "concatenated_string = ' '.join(filtered_rows['Token'].astype(str))\n",
    "\n",
    "print(concatenated_string)"
   ]
  },
  {
   "cell_type": "code",
   "execution_count": null,
   "id": "7ab8ead4",
   "metadata": {},
   "outputs": [],
   "source": [
    "## number of sentences found starting from 0\n",
    "\n",
    "max(sentences_list)"
   ]
  },
  {
   "cell_type": "code",
   "execution_count": null,
   "id": "39131f32",
   "metadata": {},
   "outputs": [],
   "source": [
    "## write the sentences to a file\n",
    "\n",
    "with open(\"4.2.Sentences_Eng\", \"w\", encoding='utf-8') as file:\n",
    "    for i in range(0, max(sentences_list)+1): ## for each sentence number\n",
    "        \n",
    "        filter_rows = Enriched_ToposText_Book4[Enriched_ToposText_Book4['Sentence'] == i] ## select all the tokens\n",
    "        concatenate_sentence = ' '.join(filter_rows['Token'].astype(str)) ## concatenate the tokens\n",
    "        file.write(f\"{concatenate_sentence}\\n\")"
   ]
  }
 ],
 "metadata": {
  "kernelspec": {
   "display_name": "Python 3 (ipykernel)",
   "language": "python",
   "name": "python3"
  },
  "language_info": {
   "codemirror_mode": {
    "name": "ipython",
    "version": 3
   },
   "file_extension": ".py",
   "mimetype": "text/x-python",
   "name": "python",
   "nbconvert_exporter": "python",
   "pygments_lexer": "ipython3",
   "version": "3.9.13"
  }
 },
 "nbformat": 4,
 "nbformat_minor": 5
}
