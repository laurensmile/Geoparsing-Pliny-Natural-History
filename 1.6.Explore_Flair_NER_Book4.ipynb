{
 "cells": [
  {
   "cell_type": "markdown",
   "id": "790b6b08",
   "metadata": {},
   "source": [
    "# Explore Flair NER Annotations in Book 4"
   ]
  },
  {
   "cell_type": "markdown",
   "id": "caad9b49",
   "metadata": {},
   "source": [
    "We explored the CSV file containing the named entities extracted by Flair NER in Book 4 (2,539 annotations). The most annotated words are: Europe, Euxine, Chersonesus, Ister, Asia, Agrippa. In total, 1,766 entities were extracted in Book 4.\n",
    "\n",
    "1,912 entities were labeled as \'LOC', 502 as 'MISC', 119 as 'PER' and 6 as 'ORG'.\n",
    "\n",
    "The most annotated is chapter 18 with 268 annotations, followed by chapter 23 and chapter 17 with 180 and 148 annotations."
   ]
  },
  {
   "cell_type": "code",
   "execution_count": 1,
   "id": "2121029f",
   "metadata": {},
   "outputs": [],
   "source": [
    "import pandas as pd\n",
    "import re\n",
    "import matplotlib.pyplot as plt"
   ]
  },
  {
   "cell_type": "code",
   "execution_count": 2,
   "id": "04cc2f3e",
   "metadata": {},
   "outputs": [],
   "source": [
    "## open the output of Flair NER (2,539 entries)\n",
    "NER_Flair_Book4 = pd.read_csv(\"/Users/u0154817/OneDrive - KU Leuven/Documents/KU Leuven/PhD project 'Greek Spaces in Roman Times'/Data_Extraction/Outputs/1.5.NER_Flair_Book_4.csv\")"
   ]
  },
  {
   "cell_type": "code",
   "execution_count": 3,
   "id": "98497836",
   "metadata": {},
   "outputs": [
    {
     "data": {
      "text/plain": [
       "2539"
      ]
     },
     "execution_count": 3,
     "metadata": {},
     "output_type": "execute_result"
    }
   ],
   "source": [
    "len(NER_Flair_Book4)"
   ]
  },
  {
   "cell_type": "markdown",
   "id": "42ff4bee",
   "metadata": {},
   "source": [
    "# 1.6.1 Reference Column"
   ]
  },
  {
   "cell_type": "markdown",
   "id": "b4d21b7e",
   "metadata": {},
   "source": [
    "The most annotated is chapter 18 with 268 annotations, followed by chapter 23 and chapter 17 with 180 and 148 annotations."
   ]
  },
  {
   "cell_type": "code",
   "execution_count": 4,
   "id": "6e215e2d",
   "metadata": {},
   "outputs": [
    {
     "data": {
      "text/plain": [
       "18    268\n",
       "23    180\n",
       "17    148\n",
       "26    144\n",
       "19    124\n",
       "20    123\n",
       "35    111\n",
       "12     91\n",
       "27     85\n",
       "24     85\n",
       "Name: Chapter, dtype: int64"
      ]
     },
     "execution_count": 4,
     "metadata": {},
     "output_type": "execute_result"
    }
   ],
   "source": [
    "## get the chapter from each reference\n",
    "\n",
    "Column_Chapter=[] ## create a new list of chapters\n",
    "\n",
    "for i, Reference in enumerate(NER_Flair_Book4[\"Reference\"]):\n",
    "    \n",
    "    Pattern=r\"urn:cts:latinLit:phi0978\\.phi001:4.(\\d+)(?:\\.(\\d))?\\.\" ## match the reference pattern\n",
    "    Match=re.search(Pattern,Reference)\n",
    "    Column_Chapter.append(int(Match[1])) ## extract the chapter\n",
    "\n",
    "NER_Flair_Book4[\"Chapter\"]=Column_Chapter\n",
    "NER_Flair_Book4[\"Chapter\"].value_counts().head(10)"
   ]
  },
  {
   "cell_type": "markdown",
   "id": "e459e58c",
   "metadata": {},
   "source": [
    "Book 4 contains 37 chapters."
   ]
  },
  {
   "cell_type": "code",
   "execution_count": 5,
   "id": "9c667422",
   "metadata": {},
   "outputs": [
    {
     "data": {
      "text/plain": [
       "37"
      ]
     },
     "execution_count": 5,
     "metadata": {},
     "output_type": "execute_result"
    }
   ],
   "source": [
    "## calculate the number of chapters in Book 4\n",
    "\n",
    "len(NER_Flair_Book4[\"Chapter\"].value_counts())"
   ]
  },
  {
   "cell_type": "code",
   "execution_count": 6,
   "id": "90f7be97",
   "metadata": {},
   "outputs": [
    {
     "data": {
      "image/png": "iVBORw0KGgoAAAANSUhEUgAAA1IAAAHACAYAAACoF1lmAAAAOXRFWHRTb2Z0d2FyZQBNYXRwbG90bGliIHZlcnNpb24zLjUuMiwgaHR0cHM6Ly9tYXRwbG90bGliLm9yZy8qNh9FAAAACXBIWXMAAA9hAAAPYQGoP6dpAAAwlklEQVR4nO3de7BV1Z0n8O8JjysoEnneewMiKkmrgCaQRhnjWwwd31brxJo0jsbHKCgPJ4I2ER0D6kRlRtL2OEn7SNroVDomVjBRfKEUwQcdSlTGwQiCIzeMBnmplwTO/JHyVF8BZeu9nMPl86k6VefsvfY+v72yboWva5+1S+VyuRwAAAB22OeqXQAAAMCuRpACAAAoSJACAAAoSJACAAAoSJACAAAoSJACAAAoSJACAAAoSJACAAAoqGO1C6gFW7ZsyVtvvZVu3bqlVCpVuxwAAKBKyuVy1q9fn8bGxnzuc9ufdxKkkrz11lvp379/tcsAAABqxMqVK9OvX7/t7hekknTr1i3JXzpr7733rnI1AABAtaxbty79+/evZITtEaSSyu18e++9tyAFAAB84k9+LDYBAABQkCAFAABQkCAFAABQkCAFAABQkCAFAABQkCAFAABQkCAFAABQkCAFAABQkCAFAABQkCAFAABQkCAFAABQkCAFAABQkCAFAABQkCAFAABQkCAFAABQUMdqFwAAn2S/ybM/9bHLb/xGK1YCAH9hRgoAAKAgQQoAAKAgQQoAAKAgQQoAAKAgQQoAAKAgQQoAAKAgQQoAAKAgQQoAAKAgQQoAAKAgQQoAAKAgQQoAAKAgQQoAAKAgQQoAAKAgQQoAAKAgQQoAAKAgQQoAAKAgQQoAAKAgQQoAAKAgQQoAAKCgqgapGTNm5Ktf/Wq6deuWPn365PTTT8+rr77aos15552XUqnU4nX44Ye3aNPc3Jxx48alV69e2XPPPXPqqafmzTff3JmXAgAA7EaqGqTmzp2byy67LAsWLMicOXPy5z//OaNGjcrGjRtbtPv617+eVatWVV4PP/xwi/3jx4/Pgw8+mPvvvz/z5s3Lhg0bcvLJJ2fz5s0783IAAIDdRMdqfvlvfvObFp/vuuuu9OnTJwsXLsxRRx1V2V5XV5f6+vptnmPt2rX50Y9+lB//+Mc54YQTkiQ/+clP0r9//zz22GM56aST2u4CAACA3VJN/UZq7dq1SZIePXq02P7UU0+lT58++eIXv5gLL7wwq1evruxbuHBh/vSnP2XUqFGVbY2NjRk8eHDmz5+/cwoHAAB2K1Wdkfq3yuVyJk6cmCOPPDKDBw+ubB89enT+9m//NgMGDMiyZcsyderUHHfccVm4cGHq6urS1NSUzp07Z5999mlxvr59+6apqWmb39Xc3Jzm5ubK53Xr1rXNRQEAAO1SzQSpsWPH5sUXX8y8efNabD/nnHMq7wcPHpzhw4dnwIABmT17ds4888ztnq9cLqdUKm1z34wZM3Lddde1TuEAAMBupyZu7Rs3blweeuihPPnkk+nXr9/Htm1oaMiAAQOydOnSJEl9fX02bdqUNWvWtGi3evXq9O3bd5vnmDJlStauXVt5rVy5snUuBAAA2C1UNUiVy+WMHTs2P//5z/PEE09k4MCBn3jMO++8k5UrV6ahoSFJMmzYsHTq1Clz5syptFm1alVeeumljBw5cpvnqKury957793iBQAAsKOqemvfZZddlvvuuy+//OUv061bt8pvmrp3754uXbpkw4YNmTZtWs4666w0NDRk+fLlufrqq9OrV6+cccYZlbYXXHBBJk2alJ49e6ZHjx658sorM2TIkMoqfgAAAK2pqkHqjjvuSJIcc8wxLbbfddddOe+889KhQ4csXrw49957b9599900NDTk2GOPzQMPPJBu3bpV2t92223p2LFjzj777Lz//vs5/vjjc/fdd6dDhw4783IAAIDdRKlcLperXUS1rVu3Lt27d8/atWvd5gdQg/abPPtTH7v8xm+0YiUAtHc7mg1qYrEJAACAXYkgBQAAUJAgBQAAUJAgBQAAUJAgBQAAUJAgBQAAUJAgBQAAUJAgBQAAUJAgBQAAUJAgBQAAUJAgBQAAUJAgBQAAUJAgBQAAUJAgBQAAUJAgBQAAUJAgBQAAUJAgBQAAUJAgBQAAUJAgBQAAUJAgBQAAUJAgBQAAUJAgBQAAUJAgBQAAUJAgBQAAUJAgBQAAUJAgBQAAUJAgBQAAUJAgBQAAUJAgBQAAUJAgBQAAUJAgBQAAUJAgBQAAUJAgBQAAUJAgBQAAUJAgBQAAUJAgBQAAUJAgBQAAUJAgBQAAUJAgBQAAUJAgBQAAUJAgBQAAUJAgBQAAUJAgBQAAUJAgBQAAUJAgBQAAUJAgBQAAUJAgBQAAUJAgBQAAUJAgBQAAUJAgBQAAUJAgBQAAUJAgBQAAUJAgBQAAUJAgBQAAUJAgBQAAUJAgBQAAUJAgBQAAUJAgBQAAUFBVg9SMGTPy1a9+Nd26dUufPn1y+umn59VXX23RplwuZ9q0aWlsbEyXLl1yzDHH5OWXX27Rprm5OePGjUuvXr2y55575tRTT82bb765My8FAADYjVQ1SM2dOzeXXXZZFixYkDlz5uTPf/5zRo0alY0bN1ba3Hzzzbn11lsza9asPP/886mvr8+JJ56Y9evXV9qMHz8+Dz74YO6///7MmzcvGzZsyMknn5zNmzdX47IAAIB2rlQul8vVLuJD/+///b/06dMnc+fOzVFHHZVyuZzGxsaMHz8+V111VZK/zD717ds3N910Uy6++OKsXbs2vXv3zo9//OOcc845SZK33nor/fv3z8MPP5yTTjrpE7933bp16d69e9auXZu99967Ta8RgOL2mzz7Ux+7/MZvtGIlALR3O5oNauo3UmvXrk2S9OjRI0mybNmyNDU1ZdSoUZU2dXV1OfroozN//vwkycKFC/OnP/2pRZvGxsYMHjy40uajmpubs27duhYvAACAHVUzQapcLmfixIk58sgjM3jw4CRJU1NTkqRv374t2vbt27eyr6mpKZ07d84+++yz3TYfNWPGjHTv3r3y6t+/f2tfDgAA0I7VTJAaO3ZsXnzxxfz0pz/dal+pVGrxuVwub7Xtoz6uzZQpU7J27drKa+XKlZ++cAAAYLdTE0Fq3Lhxeeihh/Lkk0+mX79+le319fVJstXM0urVqyuzVPX19dm0aVPWrFmz3TYfVVdXl7333rvFCwAAYEdVNUiVy+WMHTs2P//5z/PEE09k4MCBLfYPHDgw9fX1mTNnTmXbpk2bMnfu3IwcOTJJMmzYsHTq1KlFm1WrVuWll16qtAEAAGhNHav55Zdddlnuu+++/PKXv0y3bt0qM0/du3dPly5dUiqVMn78+EyfPj2DBg3KoEGDMn369HTt2jXnnntupe0FF1yQSZMmpWfPnunRo0euvPLKDBkyJCeccEI1Lw8AAGinqhqk7rjjjiTJMccc02L7XXfdlfPOOy9J8p3vfCfvv/9+Lr300qxZsyYjRozIo48+mm7dulXa33bbbenYsWPOPvvsvP/++zn++ONz9913p0OHDjvrUgAAgN1ITT1Hqlo8RwqgtnmOFAA7yy75HCkAAIBdgSAFAABQkCAFAABQkCAFAABQkCAFAABQkCAFAABQkCAFAABQkCAFAABQkCAFAABQkCAFAABQkCAFAABQkCAFAABQkCAFAABQkCAFAABQkCAFAABQkCAFAABQkCAFAABQkCAFAABQkCAFAABQUOEg9Zvf/Cbz5s2rfP7BD36Qww47LOeee27WrFnTqsUBAADUoo5FD/jP//k/56abbkqSLF68OJMmTcrEiRPzxBNPZOLEibnrrrtavUgAoDr2mzz7Mx2//MZvtFIlALWlcJBatmxZDj744CTJv/zLv+Tkk0/O9OnT86//+q/5m7/5m1YvEAAAoNYUvrWvc+fOee+995Ikjz32WEaNGpUk6dGjR9atW9e61QEAANSgwjNSRx55ZCZOnJh/9+/+XZ577rk88MADSZL/83/+T/r169fqBQIAANSawjNSs2bNSseOHfOzn/0sd9xxR77whS8kSX7961/n61//eqsXCAAAUGsKz0jtu++++dWvfrXV9ttuu61VCgIAAKh1hYNUkmzZsiWvvfZaVq9enS1btrTYd9RRR7VKYQAAALWqcJBasGBBzj333Lzxxhspl8st9pVKpWzevLnVigMAAKhFhYPUJZdckuHDh2f27NlpaGhIqVRqi7oAAABqVuEgtXTp0vzsZz/LgQce2Bb1AAAA1LzCq/aNGDEir732WlvUAgAAsEsoPCM1bty4TJo0KU1NTRkyZEg6derUYv/QoUNbrTgAAIBaVDhInXXWWUmS888/v7KtVCqlXC5bbAIAANgtFA5Sy5Yta4s6AAAAdhmFg9SAAQPaog4AAIBdxqd6IO/vf//7zJw5M0uWLEmpVMpBBx2UK664IgcccEBr1wcAAFBzCq/a98gjj+Tggw/Oc889l6FDh2bw4MF59tlnc8ghh2TOnDltUSMAAEBNKTwjNXny5EyYMCE33njjVtuvuuqqnHjiia1WHAAAQC0qPCO1ZMmSXHDBBVttP//88/PKK6+0SlEAAAC1rHCQ6t27dxYtWrTV9kWLFqVPnz6tURMAAEBNK3xr34UXXpiLLroor7/+ekaOHJlSqZR58+blpptuyqRJk9qiRgAAgJpSOEhNnTo13bp1yy233JIpU6YkSRobGzNt2rRcfvnlrV4gAABArSkcpEqlUiZMmJAJEyZk/fr1SZJu3bq1emEAAAC16lM9R+pDAhQAALA72qEg9ZWvfCWPP/549tlnn3z5y19OqVTabtt//dd/bbXiAAAAatEOBanTTjstdXV1lfcfF6QAAADaux0KUtdee23l/bRp09qqFgAAgF1C4edI7b///nnnnXe22v7uu+9m//33b5WiAAAAalnhILV8+fJs3rx5q+3Nzc158803W6UoAACAWrbDq/Y99NBDlfePPPJIunfvXvm8efPmPP744xk4cGDrVgcAAFCDdjhInX766Un+8hypMWPGtNjXqVOn7LfffrnllltatTgAAIBatMNBasuWLUmSgQMH5vnnn0+vXr3arCgAAIBaVviBvMuWLWuLOgAAAHYZhYNUkmzcuDFz587NihUrsmnTphb7Lr/88lYpDAAAoFYVDlK/+93v8jd/8zd57733snHjxvTo0SNvv/12unbtmj59+ghSAABAu1d4+fMJEybklFNOyR//+Md06dIlCxYsyBtvvJFhw4bl+9//flvUCAAAUFMKB6lFixZl0qRJ6dChQzp06JDm5ub0798/N998c66++uq2qBEAAKCmFA5SnTp1SqlUSpL07ds3K1asSJJ079698n5HPf300znllFPS2NiYUqmUX/ziFy32n3feeSmVSi1ehx9+eIs2zc3NGTduXHr16pU999wzp556qgcDAwAAbapwkPryl7+cF154IUly7LHH5rvf/W7++Z//OePHj8+QIUMKnWvjxo059NBDM2vWrO22+frXv55Vq1ZVXg8//HCL/ePHj8+DDz6Y+++/P/PmzcuGDRty8sknZ/PmzUUvDQAAYIcUXmxi+vTpWb9+fZLkv/yX/5IxY8bkP/2n/5QDDzww//RP/1ToXKNHj87o0aM/tk1dXV3q6+u3uW/t2rX50Y9+lB//+Mc54YQTkiQ/+clP0r9//zz22GM56aSTCtUDAACwIwoHqeHDh1fe9+7de6sZotb21FNPpU+fPvn85z+fo48+Ot/73vfSp0+fJMnChQvzpz/9KaNGjaq0b2xszODBgzN//vztBqnm5uY0NzdXPq9bt65NrwEAAGhfCt/ad9xxx+Xdd9/davu6dety3HHHtUZNFaNHj84///M/54knnsgtt9yS559/Pscdd1wlBDU1NaVz587ZZ599WhzXt2/fNDU1bfe8M2bMSPfu3Suv/v37t2rdAABA+1Z4Ruqpp57a6iG8SfLBBx/kmWeeaZWiPnTOOedU3g8ePDjDhw/PgAEDMnv27Jx55pnbPa5cLlcWxNiWKVOmZOLEiZXP69atE6YAAIAdtsNB6sUXX6y8f+WVV1rM+GzevDm/+c1v8oUvfKF1q/uIhoaGDBgwIEuXLk2S1NfXZ9OmTVmzZk2LWanVq1dn5MiR2z1PXV1d6urq2rRWAACg/drhIHXYYYdVliDf1i18Xbp0ye23396qxX3UO++8k5UrV6ahoSFJMmzYsHTq1Clz5szJ2WefnSRZtWpVXnrppdx8881tWgsA27ff5Nmf6fjlN36jlSoBgLaxw0Fq2bJlKZfL2X///fPcc8+ld+/elX2dO3dOnz590qFDh0JfvmHDhrz22mstvmPRokXp0aNHevTokWnTpuWss85KQ0NDli9fnquvvjq9evXKGWeckeQvz6664IILMmnSpPTs2TM9evTIlVdemSFDhlRW8QMAAGhtOxykBgwYkCTZsmVLq335Cy+8kGOPPbby+cPfLY0ZMyZ33HFHFi9enHvvvTfvvvtuGhoacuyxx+aBBx5It27dKsfcdttt6dixY84+++y8//77Of7443P33XcXDnUAAAA7qvBiE0ny+9//PjNnzsySJUtSKpVy0EEH5YorrsgBBxxQ6DzHHHNMyuXydvc/8sgjn3iOPfbYI7fffnub31YIAADwocLLnz/yyCM5+OCD89xzz2Xo0KEZPHhwnn322RxyyCGZM2dOW9QIAABQUwrPSE2ePDkTJkzIjTfeuNX2q666KieeeGKrFQcAAFCLCgepJUuW5H/9r/+11fbzzz8/M2fObI2aAAB2qs+y0qRVJmH3VPjWvt69e2fRokVbbV+0aFH69OnTGjUBAADUtMIzUhdeeGEuuuiivP766xk5cmRKpVLmzZuXm266KZMmTWqLGgEAAGpK4SA1derUdOvWLbfcckumTJmSJGlsbMy0adNy+eWXt3qBAAAAtaZwkCqVSpkwYUImTJiQ9evXJ0mL5zoBAAC0d5/qOVIfEqAAAIDdUeHFJv7whz/kW9/6VhobG9OxY8d06NChxQsAAKC9Kzwjdd5552XFihWZOnVqGhoaUiqV2qIuAACAmlU4SM2bNy/PPPNMDjvssDYoBwAAoPYVvrWvf//+KZfLbVELAADALqFwkJo5c2YmT56c5cuXt0E5AAAAta/wrX3nnHNO3nvvvRxwwAHp2rVrOnXq1GL/H//4x1YrDgAAoBYVDlIzZ85sgzIAAAB2HYWD1JgxY9qiDgAAgF3Gp3og75YtW/Laa69l9erV2bJlS4t9Rx11VKsUBgAAUKsKB6kFCxbk3HPPzRtvvLHV6n2lUimbN29uteIAAABqUeEgdckll2T48OGZPXu2B/ICAAC7pcJBaunSpfnZz36WAw88sC3qAQAAqHmFnyM1YsSIvPbaa21RCwAAwC6h8IzUuHHjMmnSpDQ1NWXIkCFbPUdq6NChrVYcAABALSocpM4666wkyfnnn1/ZViqVUi6XLTYBAADsFgoHqWXLlrVFHQAAALuMwkFqwIABbVEHAADALuNTPZA3SV555ZWsWLEimzZtarH91FNP/cxFAQAA1LLCQer111/PGWeckcWLF1d+G5Wk8jwpv5ECAADau8LLn19xxRUZOHBg/vCHP6Rr1655+eWX8/TTT2f48OF56qmn2qBEAACA2lJ4Ruq3v/1tnnjiifTu3Tuf+9zn8rnPfS5HHnlkZsyYkcsvvzy/+93v2qJOAACAmlE4SG3evDl77bVXkqRXr15566238qUvfSkDBgzIq6++2uoFAkBr2m/y7E997PIbv9GKlQCwKyscpAYPHpwXX3wx+++/f0aMGJGbb745nTt3zp133pn999+/LWoEgJoklAHsvgoHqb//+7/Pxo0bkyQ33HBDTj755Hzta19Lz54988ADD7R6gQAAALWmcJA66aSTKu/333//vPLKK/njH/+YffbZp7JyHwAAQHv2qZ8j9W/16NGjNU4DAACwSyi8/DkAAMDuTpACAAAoSJACAAAoaIeC1Fe+8pWsWbMmSXL99dfnvffea9OiAAAAatkOBaklS5ZUljy/7rrrsmHDhjYtCgAAoJbt0Kp9hx12WP7jf/yPOfLII1Mul/P9738/e+211zbbfve7323VAgEAAGrNDgWpu+++O9dee21+9atfpVQq5de//nU6dtz60FKpJEgBAADt3g4FqS996Uu5//77kySf+9zn8vjjj6dPnz5tWhgAAECtKvxA3i1btrRFHQAAALuMwkEqSX7/+99n5syZWbJkSUqlUg466KBcccUVOeCAA1q7PgAAgJpT+DlSjzzySA4++OA899xzGTp0aAYPHpxnn302hxxySObMmdMWNQIAANSUwjNSkydPzoQJE3LjjTdutf2qq67KiSee2GrFAQAA1KLCM1JLlizJBRdcsNX2888/P6+88kqrFAUAAFDLCs9I9e7dO4sWLcqgQYNabF+0aJGV/AAAoI3tN3n2pz52+Y3faMVKdm+Fg9SFF16Yiy66KK+//npGjhyZUqmUefPm5aabbsqkSZPaokYAAICaUjhITZ06Nd26dcstt9ySKVOmJEkaGxszbdq0XH755a1eIAAAQK0pHKRKpVImTJiQCRMmZP369UmSbt26tXphAAAAtepTPUfqQwIUAACwOyq8ah8AAMDuTpACAAAoSJACAAAoSJACAAAo6FMtNvH444/n8ccfz+rVq7Nly5YW+/7pn/6pVQoDAACoVYWD1HXXXZfrr78+w4cPT0NDQ0qlUlvUBQAAULMK39r3j//4j7n77rvz7LPP5he/+EUefPDBFq8inn766ZxyyilpbGxMqVTKL37xixb7y+Vypk2blsbGxnTp0iXHHHNMXn755RZtmpubM27cuPTq1St77rlnTj311Lz55ptFLwsAAGCHFQ5SmzZtysiRI1vlyzdu3JhDDz00s2bN2ub+m2++ObfeemtmzZqV559/PvX19TnxxBMrDwJOkvHjx+fBBx/M/fffn3nz5mXDhg05+eSTs3nz5lapEQAA4KMKB6lvf/vbue+++1rly0ePHp0bbrghZ5555lb7yuVyZs6cmWuuuSZnnnlmBg8enHvuuSfvvfde5fvXrl2bH/3oR7nllltywgkn5Mtf/nJ+8pOfZPHixXnsscdapUYAAICPKvwbqQ8++CB33nlnHnvssQwdOjSdOnVqsf/WW29tlcKWLVuWpqamjBo1qrKtrq4uRx99dObPn5+LL744CxcuzJ/+9KcWbRobGzN48ODMnz8/J5100jbP3dzcnObm5srndevWtUrNAADA7qFwkHrxxRdz2GGHJUleeumlFvtac+GJpqamJEnfvn1bbO/bt2/eeOONSpvOnTtnn3322arNh8dvy4wZM3Lddde1Wq0AAMDupXCQevLJJ9uiju36aDgrl8ufGNg+qc2UKVMyceLEyud169alf//+n61QAABgt1GzD+Str69Pkq1mllavXl2Zpaqvr8+mTZuyZs2a7bbZlrq6uuy9994tXgAAADuqZoPUwIEDU19fnzlz5lS2bdq0KXPnzq2sGjhs2LB06tSpRZtVq1blpZdearWVBQEAAD6q8K19rWnDhg157bXXKp+XLVuWRYsWpUePHtl3330zfvz4TJ8+PYMGDcqgQYMyffr0dO3aNeeee26SpHv37rngggsyadKk9OzZMz169MiVV16ZIUOG5IQTTqjWZQEAAO1cVYPUCy+8kGOPPbby+cPfLY0ZMyZ33313vvOd7+T999/PpZdemjVr1mTEiBF59NFH061bt8oxt912Wzp27Jizzz4777//fo4//vjcfffd6dChw06/HgAAYPdQ1SB1zDHHpFwub3d/qVTKtGnTMm3atO222WOPPXL77bfn9ttvb4MKAQAAtlazv5ECAACoVYIUAABAQYIUAABAQYIUAABAQYIUAABAQVVdtQ+gLe03efanPnb5jd9oxUoAgPbGjBQAAEBBghQAAEBBghQAAEBBghQAAEBBghQAAEBBghQAAEBBghQAAEBBniMFAOwUn+XZbsmu83w3z7CD3YMZKQAAgIIEKQAAgIIEKQAAgIIEKQAAgIIEKQAAgIKs2gcAAG3Mao7tjxkpAACAggQpAACAggQpAACAgvxGqga5h5ZdyWcZr4kxCwDsmsxIAQAAFCRIAQAAFCRIAQAAFCRIAQAAFCRIAQAAFCRIAQAAFCRIAQAAFCRIAQAAFCRIAQAAFCRIAQAAFCRIAQAAFCRIAQAAFCRIAQAAFNSx2gUAAK1rv8mzP/Wxy2/8RitWAtB+mZECAAAoSJACAAAoSJACAAAoSJACAAAoSJACAAAoSJACAAAoyPLnAABUzWdZrj+xZD/VI0gBAMA2eCYbH8etfQAAAAUJUgAAAAUJUgAAAAX5jRTALsz9+wBQHWakAAAAChKkAAAAChKkAAAAChKkAAAAChKkAAAAChKkAAAAChKkAAAACqrp50hNmzYt1113XYttffv2TVNTU5KkXC7nuuuuy5133pk1a9ZkxIgR+cEPfpBDDjmkGuXSTnguDwAAn6TmZ6QOOeSQrFq1qvJavHhxZd/NN9+cW2+9NbNmzcrzzz+f+vr6nHjiiVm/fn0VKwYAANq7mp6RSpKOHTumvr5+q+3lcjkzZ87MNddckzPPPDNJcs8996Rv37657777cvHFF+/sUoFWYEYQANgV1HyQWrp0aRobG1NXV5cRI0Zk+vTp2X///bNs2bI0NTVl1KhRlbZ1dXU5+uijM3/+/I8NUs3NzWlubq58XrduXZteA9SazxJWEoEFAKCmb+0bMWJE7r333jzyyCP5n//zf6apqSkjR47MO++8U/mdVN++fVsc829/Q7U9M2bMSPfu3Suv/v37t9k1AAAA7U9NB6nRo0fnrLPOypAhQ3LCCSdk9uy//Ff0e+65p9KmVCq1OKZcLm+17aOmTJmStWvXVl4rV65s/eIBAIB2q+Zv7fu39txzzwwZMiRLly7N6aefniRpampKQ0NDpc3q1au3mqX6qLq6utTV1bVlqQAA7ZZbxKHGZ6Q+qrm5OUuWLElDQ0MGDhyY+vr6zJkzp7J/06ZNmTt3bkaOHFnFKgEAgPaupmekrrzyypxyyinZd999s3r16txwww1Zt25dxowZk1KplPHjx2f69OkZNGhQBg0alOnTp6dr164599xzq106AADQjtV0kHrzzTfzzW9+M2+//XZ69+6dww8/PAsWLMiAAQOSJN/5znfy/vvv59JLL608kPfRRx9Nt27dqlw5AADQntV0kLr//vs/dn+pVMq0adMybdq0nVMQAABAajxIAcDuwsOoAXYtu9RiEwAAALVAkAIAAChIkAIAACjIb6SoGr8HAICP5/8roXaZkQIAAChIkAIAACjIrX3ssM9ye0HiFgMAANoPM1IAAAAFCVIAAAAFubUPAAB2U3668emZkQIAACjIjBQAsEvyjCWgmsxIAQAAFGRGCoAk7pMHgCLMSAEAABQkSAEAABTk1j7aBT84BgAS/yZg5zEjBQAAUJAgBQAAUJAgBQAAUJAgBQAAUJDFJto5z4UBAIDWZ0YKAACgIEEKAACgILf2AexknnECALs+M1IAAAAFCVIAAAAFCVIAAAAFCVIAAAAFCVIAAAAFCVIAAAAFWf4c2pBlrgEA2idBCnYRQhkAUMs+y79Vkl3v3ytu7QMAAChIkAIAAChIkAIAAChIkAIAAChIkAIAAChIkAIAAChIkAIAAChIkAIAAChIkAIAAChIkAIAACioY7ULAACg7e03efZnOn75jd9opUqgfTAjBQAAUJAgBQAAUJAgBQAAUJAgBQAAUJDFJgB2wGf5kbYfaANA+2NGCgAAoCBBCgAAoCBBCgAAoCBBCgAAoCBBCgAAoCBBCgAAoCBBCgAAoKB2E6T+4R/+IQMHDswee+yRYcOG5Zlnnql2SQAAQDvVLoLUAw88kPHjx+eaa67J7373u3zta1/L6NGjs2LFimqXBgAAtEPtIkjdeuutueCCC/Ltb387Bx10UGbOnJn+/fvnjjvuqHZpAABAO7TLB6lNmzZl4cKFGTVqVIvto0aNyvz586tUFQAA0J51rHYBn9Xbb7+dzZs3p2/fvi229+3bN01NTds8prm5Oc3NzZXPa9euTZKsW7eu7QotYEvze5/62I9ew2c510fP15rn+qznc67qneuj5zMunGtb5zMunGtb5zMudt1zffR8tXquz3o+5/ps52vt/y2r5cM6yuXyx7YrlT+pRY1766238oUvfCHz58/PEUccUdn+ve99Lz/+8Y/zv//3/97qmGnTpuW6667bmWUCAAC7kJUrV6Zfv37b3b/Lz0j16tUrHTp02Gr2afXq1VvNUn1oypQpmThxYuXzli1b8sc//jE9e/ZMqVRq9RrXrVuX/v37Z+XKldl7771b/fxsn76vLv1fXfq/uvR/9ej76tL/1aX/P7tyuZz169ensbHxY9vt8kGqc+fOGTZsWObMmZMzzjijsn3OnDk57bTTtnlMXV1d6urqWmz7/Oc/35ZlJkn23ntvA7pK9H116f/q0v/Vpf+rR99Xl/6vLv3/2XTv3v0T2+zyQSpJJk6cmG9961sZPnx4jjjiiNx5551ZsWJFLrnkkmqXBgAAtEPtIkidc845eeedd3L99ddn1apVGTx4cB5++OEMGDCg2qUBAADtULsIUkly6aWX5tJLL612GdtUV1eXa6+9dqvbCWl7+r669H916f/q0v/Vo++rS/9Xl/7feXb5VfsAAAB2tl3+gbwAAAA7myAFAABQkCAFAABQkCAFAABQkCDVxv7hH/4hAwcOzB577JFhw4blmWeeqXZJu4Vp06alVCq1eNXX11e7rHbr6aefzimnnJLGxsaUSqX84he/aLG/XC5n2rRpaWxsTJcuXXLMMcfk5Zdfrk6x7dAn9f9555231d/D4YcfXp1i25kZM2bkq1/9arp165Y+ffrk9NNPz6uvvtqijfHfNnak7439tnPHHXdk6NChlYe+HnHEEfn1r39d2W/ct61P6n9jf+cQpNrQAw88kPHjx+eaa67J7373u3zta1/L6NGjs2LFimqXtls45JBDsmrVqspr8eLF1S6p3dq4cWMOPfTQzJo1a5v7b7755tx6662ZNWtWnn/++dTX1+fEE0/M+vXrd3Kl7dMn9X+SfP3rX2/x9/Dwww/vxArbr7lz5+ayyy7LggULMmfOnPz5z3/OqFGjsnHjxkob479t7EjfJ8Z+W+nXr19uvPHGvPDCC3nhhRdy3HHH5bTTTquEJeO+bX1S/yfG/k5Rps389V//dfmSSy5pse2v/uqvypMnT65SRbuPa6+9tnzooYdWu4zdUpLygw8+WPm8ZcuWcn19ffnGG2+sbPvggw/K3bt3L//jP/5jFSps3z7a/+VyuTxmzJjyaaedVpV6djerV68uJynPnTu3XC4b/zvTR/u+XDb2d7Z99tmn/MMf/tC4r5IP+79cNvZ3FjNSbWTTpk1ZuHBhRo0a1WL7qFGjMn/+/CpVtXtZunRpGhsbM3DgwPz7f//v8/rrr1e7pN3SsmXL0tTU1OJvoa6uLkcffbS/hZ3oqaeeSp8+ffLFL34xF154YVavXl3tktqltWvXJkl69OiRxPjfmT7a9x8y9tve5s2bc//992fjxo054ogjjPud7KP9/yFjv+11rHYB7dXbb7+dzZs3p2/fvi229+3bN01NTVWqavcxYsSI3HvvvfniF7+YP/zhD7nhhhsycuTIvPzyy+nZs2e1y9utfDjet/W38MYbb1SjpN3O6NGj87d/+7cZMGBAli1blqlTp+a4447LwoULU1dXV+3y2o1yuZyJEyfmyCOPzODBg5MY/zvLtvo+Mfbb2uLFi3PEEUfkgw8+yF577ZUHH3wwBx98cCUsGfdta3v9nxj7O4sg1cZKpVKLz+VyeatttL7Ro0dX3g8ZMiRHHHFEDjjggNxzzz2ZOHFiFSvbfflbqJ5zzjmn8n7w4MEZPnx4BgwYkNmzZ+fMM8+sYmXty9ixY/Piiy9m3rx5W+0z/tvW9vre2G9bX/rSl7Jo0aK8++67+Zd/+ZeMGTMmc+fOrew37tvW9vr/4IMPNvZ3Erf2tZFevXqlQ4cOW80+rV69eqv/QkPb23PPPTNkyJAsXbq02qXsdj5cLdHfQu1oaGjIgAED/D20onHjxuWhhx7Kk08+mX79+lW2G/9tb3t9vy3Gfuvq3LlzDjzwwAwfPjwzZszIoYcemv/23/6bcb+TbK//t8XYbxuCVBvp3Llzhg0bljlz5rTYPmfOnIwcObJKVe2+mpubs2TJkjQ0NFS7lN3OwIEDU19f3+JvYdOmTZk7d66/hSp55513snLlSn8PraBcLmfs2LH5+c9/nieeeCIDBw5ssd/4bzuf1PfbYuy3rXK5nObmZuO+Sj7s/20x9tuGW/va0MSJE/Otb30rw4cPzxFHHJE777wzK1asyCWXXFLt0tq9K6+8Mqecckr23XffrF69OjfccEPWrVuXMWPGVLu0dmnDhg157bXXKp+XLVuWRYsWpUePHtl3330zfvz4TJ8+PYMGDcqgQYMyffr0dO3aNeeee24Vq24/Pq7/e/TokWnTpuWss85KQ0NDli9fnquvvjq9evXKGWecUcWq24fLLrss9913X375y1+mW7dulf8C371793Tp0iWlUsn4byOf1PcbNmww9tvQ1VdfndGjR6d///5Zv3597r///jz11FP5zW9+Y9zvBB/X/8b+TlSt5QJ3Fz/4wQ/KAwYMKHfu3Ln8la98pcWyrLSdc845p9zQ0FDu1KlTubGxsXzmmWeWX3755WqX1W49+eST5SRbvcaMGVMul/+yBPS1115brq+vL9fV1ZWPOuqo8uLFi6tbdDvycf3/3nvvlUeNGlXu3bt3uVOnTuV99923PGbMmPKKFSuqXXa7sK1+T1K+6667Km2M/7bxSX1v7Let888/v/Lvm969e5ePP/748qOPPlrZb9y3rY/rf2N/5ymVy+XyzgxuAAAAuzq/kQIAAChIkAIAAChIkAIAAChIkAIAAChIkAIAAChIkAIAAChIkAIAAChIkAJgl7Z8+fKUSqUsWrSo2qUAsBsRpABgB+23336ZOXNmtcsAoAYIUgCwk23atKnaJQDwGQlSAOwStmzZkptuuikHHnhg6urqsu++++Z73/teZf/rr7+eY489Nl27ds2hhx6a3/72t5V977zzTr75zW+mX79+6dq1a4YMGZKf/vSnLc5/zDHHZOzYsRk7dmw+//nPp2fPnvn7v//7lMvlyv433ngjEyZMSKlUSqlUqhw7f/78HHXUUenSpUv69++fyy+/PBs3bqzs32+//XLDDTfkvPPOS/fu3XPhhRe2VTcBsJMIUgDsEqZMmZKbbropU6dOzSuvvJL77rsvffv2rey/5pprcuWVV2bRokX54he/mG9+85v585//nCT54IMPMmzYsPzqV7/KSy+9lIsuuijf+ta38uyzz7b4jnvuuScdO3bMs88+m//+3/97brvttvzwhz9Mkvz85z9Pv379cv3112fVqlVZtWpVkmTx4sU56aSTcuaZZ+bFF1/MAw88kHnz5mXs2LEtzv1f/+t/zeDBg7Nw4cJMnTq1LbsKgJ2gVP7wP7UBQI1av359evfunVmzZuXb3/52i33Lly/PwIED88Mf/jAXXHBBkuSVV17JIYcckiVLluSv/uqvtnnOb3zjGznooIPy/e9/P8lfZpxWr16dl19+uTLbNHny5Dz00EN55ZVXkvxlZmn8+PEZP3585Tx/93d/ly5duuR//I//Udk2b968HH300dm4cWP22GOP7Lfffvnyl7+cBx98sNX6BIDqMiMFQM1bsmRJmpubc/zxx2+3zdChQyvvGxoakiSrV69OkmzevDnf+973MnTo0PTs2TN77bVXHn300axYsaLFOQ4//PAWt+wdccQRWbp0aTZv3rzd7124cGHuvvvu7LXXXpXXSSedlC1btmTZsmWVdsOHDy920QDUtI7VLgAAPkmXLl0+sU2nTp0q7z8MQ1u2bEmS3HLLLbntttsyc+bMDBkyJHvuuWfGjx/fKos+bNmyJRdffHEuv/zyrfbtu+++lfd77rnnZ/4uAGqHIAVAzRs0aFC6dOmSxx9/fKtb+3bEM888k9NOOy3/4T/8hyR/CT9Lly7NQQcd1KLdggULtvo8aNCgdOjQIUnSuXPnrWanvvKVr+Tll1/OgQceWLguAHZdbu0DoObtscceueqqq/Kd73wn9957b37/+99nwYIF+dGPfrRDxx944IGZM2dO5s+fnyVLluTiiy9OU1PTVu1WrlyZiRMn5tVXX81Pf/rT3H777bniiisq+/fbb788/fTT+b//9//m7bffTpJcddVV+e1vf5vLLrssixYtytKlS/PQQw9l3LhxrXPxANQkM1IA7BKmTp2ajh075rvf/W7eeuutNDQ05JJLLtnhY5ctW5aTTjopXbt2zUUXXZTTTz89a9eubdHu7/7u7/L+++/nr//6r9OhQ4eMGzcuF110UWX/9ddfn4svvjgHHHBAmpubUy6XM3To0MydOzfXXHNNvva1r6VcLueAAw7IOeec06rXD0BtsWofAOQvq/YddthhmTlzZrVLAWAX4NY+AACAggQpAACAgtzaBwAAUJAZKQAAgIIEKQAAgIIEKQAAgIIEKQAAgIIEKQAAgIIEKQAAgIIEKQAAgIIEKQAAgIIEKQAAgIL+PxgorHkv/QTdAAAAAElFTkSuQmCC\n",
      "text/plain": [
       "<Figure size 1000x500 with 1 Axes>"
      ]
     },
     "metadata": {},
     "output_type": "display_data"
    }
   ],
   "source": [
    "## plot the distribution of named entities detected by NER in Book 4\n",
    "\n",
    "plt.figure(figsize=(10, 5))\n",
    "\n",
    "## count the unique values in Chapter column\n",
    "counts = NER_Flair_Book4[\"Chapter\"].value_counts()\n",
    "\n",
    "## sort the counts dictionary by key in ascending order\n",
    "sorted_counts = dict(sorted(counts.items()))\n",
    "\n",
    "## plot the sorted counts as a bar plot\n",
    "plt.bar(sorted_counts.keys(), sorted_counts.values())\n",
    "\n",
    "plt.xlabel('chapter')\n",
    "plt.ylabel('n of annotations')\n",
    "\n",
    "## show the plot\n",
    "plt.show()"
   ]
  },
  {
   "cell_type": "markdown",
   "id": "89f4233b",
   "metadata": {},
   "source": [
    "# 1.6.2 Named Entity Column"
   ]
  },
  {
   "cell_type": "markdown",
   "id": "021feef1",
   "metadata": {},
   "source": [
    "'Europe' is the most annotated word with 19 attestations, followed by 'Euxine' (17), 'Chersonesus' (13) and 'Ister' (13). In total, 1,766 entities were annotated in Book 4."
   ]
  },
  {
   "cell_type": "code",
   "execution_count": 7,
   "id": "9ca7c4c0",
   "metadata": {},
   "outputs": [
    {
     "data": {
      "text/plain": [
       "Europe          19\n",
       "Euxine          17\n",
       "Chersonesus     13\n",
       "Ister           13\n",
       "Agrippa         12\n",
       "Asia            12\n",
       "Macedonia       11\n",
       "Peloponnesus    11\n",
       "Thrace          10\n",
       "Aitolia         10\n",
       "Name: Named Entity, dtype: int64"
      ]
     },
     "execution_count": 7,
     "metadata": {},
     "output_type": "execute_result"
    }
   ],
   "source": [
    "NER_Flair_Book4[\"Named Entity\"].value_counts().head(10)"
   ]
  },
  {
   "cell_type": "code",
   "execution_count": 8,
   "id": "3f742ca2",
   "metadata": {},
   "outputs": [
    {
     "data": {
      "text/plain": [
       "1766"
      ]
     },
     "execution_count": 8,
     "metadata": {},
     "output_type": "execute_result"
    }
   ],
   "source": [
    "len(NER_Flair_Book4[\"Named Entity\"].value_counts())"
   ]
  },
  {
   "cell_type": "markdown",
   "id": "7cfea92d",
   "metadata": {},
   "source": [
    "# 1.6.3 Type Column"
   ]
  },
  {
   "cell_type": "markdown",
   "id": "612cbdd6",
   "metadata": {},
   "source": [
    "1,912 entities were labelled as \"LOC', 502 as 'MISC', 119 as 'PER' and 6 as 'ORG'."
   ]
  },
  {
   "cell_type": "code",
   "execution_count": 9,
   "id": "57d56d7d",
   "metadata": {},
   "outputs": [
    {
     "data": {
      "text/plain": [
       "LOC     1912\n",
       "MISC     502\n",
       "PER      119\n",
       "ORG        6\n",
       "Name: Type, dtype: int64"
      ]
     },
     "execution_count": 9,
     "metadata": {},
     "output_type": "execute_result"
    }
   ],
   "source": [
    "NER_Flair_Book4[\"Type\"].value_counts()"
   ]
  }
 ],
 "metadata": {
  "kernelspec": {
   "display_name": "Python 3 (ipykernel)",
   "language": "python",
   "name": "python3"
  },
  "language_info": {
   "codemirror_mode": {
    "name": "ipython",
    "version": 3
   },
   "file_extension": ".py",
   "mimetype": "text/x-python",
   "name": "python",
   "nbconvert_exporter": "python",
   "pygments_lexer": "ipython3",
   "version": "3.9.13"
  }
 },
 "nbformat": 4,
 "nbformat_minor": 5
}
