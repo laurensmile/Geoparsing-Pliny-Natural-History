{
 "cells": [
  {
   "cell_type": "markdown",
   "id": "1f4f877f",
   "metadata": {},
   "source": [
    "# Enrich ToposText Annotation by Flair NER in Book 4"
   ]
  },
  {
   "cell_type": "markdown",
   "id": "c611a5f1",
   "metadata": {},
   "source": [
    "The notebook contains the code to enrich the ToposText annotation with the extraction of the Flair NER.\n",
    "The steps are:\n",
    "\n",
    "- open the CSV file containing the ToposText annotations;\n",
    "- filter out the common nouns annotated in ToposText;\n",
    "- open the output of Flair NER';\n",
    "- create a set of tuples for the ToposText and the Flair NER annotations. Each tuple constists of the reference (book, chapter) and the start position of the named entity;\n",
    "- with the intersection function, extract the annotations that are present both in ToposText and Flair NER (Common Annotations);\n",
    "- extract annotations detected by NER but not in ToposText (Not Common Annotations);\n",
    "- some of these annotations are not new, but are partially overlapping with already existing annotations. Exclude these annotations from the new entries;\n",
    "- filter out annotations from the Flair NER in capital letters and the common nouns;\n",
    "- add the new annotations to the CSV file of the ToposText annotations;\n",
    "- reorder the dataframe according to the columns 'Reference' and 'Start position'.\n",
    "\n",
    "We calculated that 1,778 annotations from Flair NER were already present in ToposText. 761 annotations detected by Flair NER that were not annotated in ToposText. Among these, 88 were overlapping annotations. In total, by Flair NER we detected 631 new annotations that were added to the CSV file for a total of 2,508 annotations."
   ]
  },
  {
   "cell_type": "code",
   "execution_count": 1,
   "id": "9c930326",
   "metadata": {},
   "outputs": [],
   "source": [
    "import pandas as pd"
   ]
  },
  {
   "cell_type": "code",
   "execution_count": 2,
   "id": "abf1da96",
   "metadata": {
    "scrolled": true
   },
   "outputs": [],
   "source": [
    "## open the file containing ToposText annotations in Book 4 (1,888 rows)\n",
    "ToposText_Book4 = pd.read_csv(\"/Users/u0154817/OneDrive - KU Leuven/Documents/KU Leuven/PhD project 'Greek Spaces in Roman Times'/Data_Extraction/Outputs/1.1.ToposText_Annotations_Book_4.csv\", delimiter=\",\")"
   ]
  },
  {
   "cell_type": "code",
   "execution_count": 3,
   "id": "799252d1",
   "metadata": {},
   "outputs": [
    {
     "data": {
      "text/plain": [
       "1888"
      ]
     },
     "execution_count": 3,
     "metadata": {},
     "output_type": "execute_result"
    }
   ],
   "source": [
    "len(ToposText_Book4)"
   ]
  },
  {
   "cell_type": "code",
   "execution_count": 5,
   "id": "174e9aa2",
   "metadata": {},
   "outputs": [],
   "source": [
    "## drop the Unnamed column\n",
    "ToposText_Book4 = ToposText_Book4.drop(['Unnamed: 0'], axis=1)"
   ]
  },
  {
   "cell_type": "code",
   "execution_count": 6,
   "id": "beaff47d",
   "metadata": {},
   "outputs": [],
   "source": [
    "## filter out the common nouns annotated in ToposText (11 in total)\n",
    "ToposText_Book4 = ToposText_Book4[~ToposText_Book4['Tagged Entity'].str.islower()]\n",
    "ToposText_Book4.reset_index(inplace=True) ## reset the index"
   ]
  },
  {
   "cell_type": "markdown",
   "id": "0b135cf6",
   "metadata": {},
   "source": [
    "The resulting dataset contains 1,877 rows."
   ]
  },
  {
   "cell_type": "code",
   "execution_count": 7,
   "id": "612e7603",
   "metadata": {},
   "outputs": [
    {
     "data": {
      "text/plain": [
       "1877"
      ]
     },
     "execution_count": 7,
     "metadata": {},
     "output_type": "execute_result"
    }
   ],
   "source": [
    "len(ToposText_Book4) "
   ]
  },
  {
   "cell_type": "code",
   "execution_count": 8,
   "id": "32a3f2eb",
   "metadata": {},
   "outputs": [],
   "source": [
    "## open the file containing the output of Flair NER (2,539 entries)\n",
    "NER_Flair_Book4 = pd.read_csv(\"/Users/u0154817/OneDrive - KU Leuven/Documents/KU Leuven/PhD project 'Greek Spaces in Roman Times'/Data_Extraction/Outputs/1.5.NER_Flair_Book_4.csv\")"
   ]
  },
  {
   "cell_type": "code",
   "execution_count": 9,
   "id": "ef86200d",
   "metadata": {},
   "outputs": [
    {
     "data": {
      "text/plain": [
       "2539"
      ]
     },
     "execution_count": 9,
     "metadata": {},
     "output_type": "execute_result"
    }
   ],
   "source": [
    "len(NER_Flair_Book4)"
   ]
  },
  {
   "cell_type": "code",
   "execution_count": 10,
   "id": "6818bba8",
   "metadata": {},
   "outputs": [],
   "source": [
    "## create a set of tuples for the ToposText annotation\n",
    "ToposText_tuples = set(zip(ToposText_Book4['Reference'], ToposText_Book4['Start position']))\n",
    "\n",
    "## create a set of tuples for the Flair NER\n",
    "NER_Flair_tuples = set(zip(NER_Flair_Book4['Reference'], NER_Flair_Book4['First position']))"
   ]
  },
  {
   "cell_type": "code",
   "execution_count": 11,
   "id": "f6224111",
   "metadata": {},
   "outputs": [
    {
     "data": {
      "text/plain": [
       "1877"
      ]
     },
     "execution_count": 11,
     "metadata": {},
     "output_type": "execute_result"
    }
   ],
   "source": [
    "## check the lenght of the set\n",
    "len(ToposText_tuples)"
   ]
  },
  {
   "cell_type": "code",
   "execution_count": 12,
   "id": "271ca684",
   "metadata": {},
   "outputs": [
    {
     "data": {
      "text/plain": [
       "2539"
      ]
     },
     "execution_count": 12,
     "metadata": {},
     "output_type": "execute_result"
    }
   ],
   "source": [
    "## check the lenght of the set\n",
    "len(NER_Flair_tuples)"
   ]
  },
  {
   "cell_type": "markdown",
   "id": "6ac5d72d",
   "metadata": {},
   "source": [
    "# 1.8.1 Annotations present both in ToposText and Flair NER"
   ]
  },
  {
   "cell_type": "markdown",
   "id": "023a10fc",
   "metadata": {},
   "source": [
    "We extracted 1,778 annotations in common in ToposText and Flair NER. These annotations detected by Flair NER were already annotated in ToposText."
   ]
  },
  {
   "cell_type": "code",
   "execution_count": 13,
   "id": "bb36354d",
   "metadata": {},
   "outputs": [
    {
     "data": {
      "text/plain": [
       "1778"
      ]
     },
     "execution_count": 13,
     "metadata": {},
     "output_type": "execute_result"
    }
   ],
   "source": [
    "## extract the annotations in common in ToposText and Flair NER (1,778)\n",
    "\n",
    "Common_Annotations = NER_Flair_tuples.intersection(ToposText_tuples)\n",
    "len(Common_Annotations)"
   ]
  },
  {
   "cell_type": "markdown",
   "id": "bf606ab2",
   "metadata": {},
   "source": [
    "# 1.8.2 Annotations in Flair NER and not in ToposText"
   ]
  },
  {
   "cell_type": "markdown",
   "id": "6e19feb0",
   "metadata": {},
   "source": [
    "We extracted 761 annotations detected by Flair NER that were not annotated in ToposText."
   ]
  },
  {
   "cell_type": "code",
   "execution_count": 14,
   "id": "88b377b8",
   "metadata": {},
   "outputs": [
    {
     "data": {
      "text/plain": [
       "761"
      ]
     },
     "execution_count": 14,
     "metadata": {},
     "output_type": "execute_result"
    }
   ],
   "source": [
    "## extract annotations in Flair NER but not in ToposText\n",
    "\n",
    "Not_Common_Annotations = NER_Flair_tuples - ToposText_tuples\n",
    "len(Not_Common_Annotations)"
   ]
  },
  {
   "cell_type": "code",
   "execution_count": 15,
   "id": "8be2c6cb",
   "metadata": {},
   "outputs": [
    {
     "data": {
      "text/plain": [
       "2539"
      ]
     },
     "execution_count": 15,
     "metadata": {},
     "output_type": "execute_result"
    }
   ],
   "source": [
    "## the sum of annotations in common and not in common is the lenght of the Flair NER annotations\n",
    "\n",
    "len(Common_Annotations) + len(Not_Common_Annotations)"
   ]
  },
  {
   "cell_type": "markdown",
   "id": "7e2653f0",
   "metadata": {},
   "source": [
    "# 1.8.3 Partially Overlapping Annotations"
   ]
  },
  {
   "cell_type": "markdown",
   "id": "65fc9214",
   "metadata": {},
   "source": [
    "Nonetheless, some of these annotations detected by Flair NER are not new, but are partially overlapping with already existing annotations in ToposText. For instance, the same entity was annotated as 'Pindus' in ToposText and 'Mount Pindus' by Flair NER with a different start position ((357, 369) and (363, 369)). To identify these cases, we checked whether the range of position of the entity extracted by Flair NER is in the range of position of an entity annotated in ToposText with the same reference,  or vice versa.\n",
    "\n",
    "In total, we found 88 overlapping annotations."
   ]
  },
  {
   "cell_type": "code",
   "execution_count": 16,
   "id": "47109dae",
   "metadata": {
    "scrolled": true
   },
   "outputs": [],
   "source": [
    "## the subdataset contains the Flair annotations that are not present in ToposText\n",
    "filtered_NER_Flair_Book4 = NER_Flair_Book4[NER_Flair_Book4[['Reference', 'First position']].apply(tuple, axis=1).isin(Not_Common_Annotations)]\n",
    "filtered_NER_Flair_Book4.reset_index(inplace=True) ## reset the index"
   ]
  },
  {
   "cell_type": "code",
   "execution_count": 17,
   "id": "58cf5e9f",
   "metadata": {},
   "outputs": [
    {
     "data": {
      "text/plain": [
       "761"
      ]
     },
     "execution_count": 17,
     "metadata": {},
     "output_type": "execute_result"
    }
   ],
   "source": [
    "len(filtered_NER_Flair_Book4)"
   ]
  },
  {
   "cell_type": "code",
   "execution_count": 18,
   "id": "4fdeebbe",
   "metadata": {
    "scrolled": true
   },
   "outputs": [
    {
     "name": "stdout",
     "output_type": "stream",
     "text": [
      "7 urn:cts:latinLit:phi0978.phi001:4.1.2 Mount Pindus (357, 369) Pindus (363, 369)\n",
      "11 urn:cts:latinLit:phi0978.phi001:4.1.2 Mount Tomarus (539, 552) Tomarus (545, 552)\n",
      "17 urn:cts:latinLit:phi0978.phi001:4.2.1 Promontory of Leucate (326, 347) Leucate (340, 347)\n",
      "26 urn:cts:latinLit:phi0978.phi001:4.3.1 Mounts Chalcis (411, 425) Chalcis (418, 425)\n",
      "31 urn:cts:latinLit:phi0978.phi001:4.4.1 Ozolae (67, 73) Locri surnamed Ozolae (52, 73)\n",
      "36 urn:cts:latinLit:phi0978.phi001:4.4.1 Mount Parnassus (444, 459) Parnassus (450, 459)\n",
      "37 urn:cts:latinLit:phi0978.phi001:4.4.1 Fountain too of Castalia (550, 574) Castalia (566, 574)\n",
      "41 urn:cts:latinLit:phi0978.phi001:4.5.2 Heights of Corinth (317, 335) Corinth (328, 335)\n",
      "42 urn:cts:latinLit:phi0978.phi001:4.5.2 Fountain of Pirene (358, 376) Pirene (370, 376)\n",
      "47 urn:cts:latinLit:phi0978.phi001:4.6.1 Fountain of Cymothoe (834, 854) Cymothoe (846, 854)\n",
      "48 urn:cts:latinLit:phi0978.phi001:4.6.1 Promontory of Araxus (973, 993) Araxus (987, 993)\n",
      "49 urn:cts:latinLit:phi0978.phi001:4.6.1 Bay of Cyllene (999, 1013) Cyllene (1006, 1013)\n",
      "50 urn:cts:latinLit:phi0978.phi001:4.6.1 Promontory of Chelonates (1023, 1047) Chelonates (1037, 1047)\n",
      "53 urn:cts:latinLit:phi0978.phi001:4.6.2 Promontory of Ichthys (430, 451) Ichthys (444, 451)\n",
      "54 urn:cts:latinLit:phi0978.phi001:4.6.2 Promontory of Platanodes (564, 588) Platanodes (578, 588)\n",
      "56 urn:cts:latinLit:phi0978.phi001:4.7.1 Gulf of Cyparissus (40, 58) Cyparissus (48, 58)\n",
      "57 urn:cts:latinLit:phi0978.phi001:4.7.1 Promontory of Acritas (223, 244) Acritas (237, 244)\n",
      "60 urn:cts:latinLit:phi0978.phi001:4.7.1 Promontory of Taenarum (380, 402) Taenarum (394, 402)\n",
      "63 urn:cts:latinLit:phi0978.phi001:4.8.1 Mount Taygetus (364, 378) Taygetus (370, 378)\n",
      "65 urn:cts:latinLit:phi0978.phi001:4.8.1 Gulf of Gytheum (448, 463) Gytheum (456, 463)\n",
      "66 urn:cts:latinLit:phi0978.phi001:4.8.1 Promontory of Malea (613, 632) Malea (627, 632)\n",
      "68 urn:cts:latinLit:phi0978.phi001:4.9.1 Limera (190, 196) Epidaurus surnamed Limera (171, 196)\n",
      "71 urn:cts:latinLit:phi0978.phi001:4.9.2 Corinth (42, 49) Isthmus of Corinth (31, 49)\n",
      "73 urn:cts:latinLit:phi0978.phi001:4.9.2 Promontory of Spiraion (480, 502) Spiraion (494, 502)\n",
      "75 urn:cts:latinLit:phi0978.phi001:4.9.2 Gulf of Megara (1005, 1019) Megara (1013, 1019)\n",
      "89 urn:cts:latinLit:phi0978.phi001:4.10.3 Promontory of Malea (327, 346) Malea (341, 346)\n",
      "93 urn:cts:latinLit:phi0978.phi001:4.11.2 Fountains of Cephisia (783, 804) Cephisia (796, 804)\n",
      "95 urn:cts:latinLit:phi0978.phi001:4.11.2 Promontory of Sounion (1007, 1028) Sounion (1021, 1028)\n",
      "96 urn:cts:latinLit:phi0978.phi001:4.11.2 Promontory of Thoricos (1048, 1070) Thoricos (1062, 1070)\n",
      "99 urn:cts:latinLit:phi0978.phi001:4.12.1 Muses (305, 310) birth-place of the Muses (286, 310)\n",
      "107 urn:cts:latinLit:phi0978.phi001:4.13.1 Mount Oita (115, 125) Oita (121, 125)\n",
      "114 urn:cts:latinLit:phi0978.phi001:4.14.2 Mount Callidromus (289, 306) Callidromus (295, 306)\n",
      "118 urn:cts:latinLit:phi0978.phi001:4.15.1 Fountain of Hyperia (153, 172) Hyperia (165, 172)\n",
      "119 urn:cts:latinLit:phi0978.phi001:4.15.1 Gulf of Pagasa (318, 332) Pagasa (326, 332)\n",
      "120 urn:cts:latinLit:phi0978.phi001:4.15.1 Plains of Pharsalia (397, 416) Pharsalia (407, 416)\n",
      "128 urn:cts:latinLit:phi0978.phi001:4.15.1 Fountain of Messeis (1139, 1158) Messeis (1151, 1158)\n",
      "130 urn:cts:latinLit:phi0978.phi001:4.16.1 Promontory of Sepias (143, 163) Sepias (157, 163)\n",
      "148 urn:cts:latinLit:phi0978.phi001:4.17.3 Gulf of Thermae (260, 275) Thermae (268, 275)\n",
      "150 urn:cts:latinLit:phi0978.phi001:4.17.3 Promontory of Canastraion (327, 352) Canastraion (341, 352)\n",
      "157 urn:cts:latinLit:phi0978.phi001:4.17.3 Gulf of Mecyberna (636, 653) Mecyberna (644, 653)\n",
      "159 urn:cts:latinLit:phi0978.phi001:4.17.3 Mount Athos (803, 814) Athos (809, 814)\n",
      "164 urn:cts:latinLit:phi0978.phi001:4.17.3 Mount Haemus (1637, 1649) Haemus (1643, 1649)\n",
      "173 urn:cts:latinLit:phi0978.phi001:4.18.1 Mount Pangaion (475, 489) Pangaion (481, 489)\n",
      "188 urn:cts:latinLit:phi0978.phi001:4.18.1 Mount Haemus (917, 929) Haemus (923, 929)\n",
      "195 urn:cts:latinLit:phi0978.phi001:4.18.1 Arraei Sarmatae (1437, 1452) Sarmatae (1444, 1452)\n",
      "199 urn:cts:latinLit:phi0978.phi001:4.18.2 Mount Pangaeus (396, 410) Pangaeus (402, 410)\n",
      "205 urn:cts:latinLit:phi0978.phi001:4.18.2 Mount Serrium (754, 767) Serrium (760, 767)\n",
      "208 urn:cts:latinLit:phi0978.phi001:4.18.3 Gulf of Melas (172, 185) Melas (180, 185)\n",
      "209 urn:cts:latinLit:phi0978.phi001:4.18.3 Gulf of Melas (391, 404) Melas (399, 404)\n",
      "224 urn:cts:latinLit:phi0978.phi001:4.18.4 Mount Haemus (923, 935) Haemus (929, 935)\n",
      "241 urn:cts:latinLit:phi0978.phi001:4.18.6 Gulf of Melas (269, 282) Melas (277, 282)\n",
      "245 urn:cts:latinLit:phi0978.phi001:4.18.6 Gulf of Melas (1333, 1346) Melas (1341, 1346)\n",
      "276 urn:cts:latinLit:phi0978.phi001:4.19.3 Mount Neritus (780, 793) Neritus (786, 793)\n",
      "278 urn:cts:latinLit:phi0978.phi001:4.19.4 Gulf of Argolis (305, 320) Argolis (313, 320)\n",
      "287 urn:cts:latinLit:phi0978.phi001:4.19.4 Selachusa Cenchreis (985, 1004) Cenchreis (995, 1004)\n",
      "288 urn:cts:latinLit:phi0978.phi001:4.19.4 Gulf of Megara (1033, 1047) Megara (1041, 1047)\n",
      "291 urn:cts:latinLit:phi0978.phi001:4.20.1 Promontory of Sammonium (731, 754) Sammonium (745, 754)\n",
      "318 urn:cts:latinLit:phi0978.phi001:4.21.1 Fountain of Arethusa (1038, 1058) Arethusa (1050, 1058)\n",
      "330 urn:cts:latinLit:phi0978.phi001:4.22.1 M. Varro (1463, 1471) Varro (1466, 1471)\n",
      "335 urn:cts:latinLit:phi0978.phi001:4.22.1 Mount Cynthus (1909, 1922) Cynthus (1915, 1922)\n",
      "376 urn:cts:latinLit:phi0978.phi001:4.23.4 Mount Athos (749, 760) Athos (755, 760)\n",
      "401 urn:cts:latinLit:phi0978.phi001:4.24.1 Thracian Bosporus (1033, 1050) Bosporus (1042, 1050)\n",
      "402 urn:cts:latinLit:phi0978.phi001:4.24.2 Lake Maeotis (411, 423) Maeotis (416, 423)\n",
      "405 urn:cts:latinLit:phi0978.phi001:4.24.2 M. Varro (1003, 1011) Varro (1006, 1011)\n",
      "407 urn:cts:latinLit:phi0978.phi001:4.24.3 Lake Maeotis (10, 22) Maeotis (15, 22)\n",
      "444 urn:cts:latinLit:phi0978.phi001:4.26.1 Achilles (843, 851) island of Achilles (833, 851)\n",
      "445 urn:cts:latinLit:phi0978.phi001:4.26.1 Taurian Scythians (1154, 1171) Scythians (1162, 1171)\n",
      "450 urn:cts:latinLit:phi0978.phi001:4.26.3 Lake Maeotis (129, 141) Maeotis (134, 141)\n",
      "451 urn:cts:latinLit:phi0978.phi001:4.26.3 Gulf of Carcinites (245, 263) Carcinites (253, 263)\n",
      "455 urn:cts:latinLit:phi0978.phi001:4.26.3 Lake Buges (345, 355) Buges (350, 355)\n",
      "457 urn:cts:latinLit:phi0978.phi001:4.26.3 Lake Maeotis (480, 492) Maeotis (485, 492)\n",
      "464 urn:cts:latinLit:phi0978.phi001:4.26.3 Lake Buges (753, 763) Buges (758, 763)\n",
      "474 urn:cts:latinLit:phi0978.phi001:4.26.4 Heraclea Chersonesus (699, 719) Chersonesus (708, 719)\n",
      "480 urn:cts:latinLit:phi0978.phi001:4.26.4 Promontory of Criumetopon (1105, 1130) Criumetopon (1119, 1130)\n",
      "488 urn:cts:latinLit:phi0978.phi001:4.26.4 Lake Maeotis (2397, 2409) Maeotis (2402, 2409)\n",
      "494 urn:cts:latinLit:phi0978.phi001:4.26.5 Lake Buges (402, 412) Buges (407, 412)\n",
      "495 urn:cts:latinLit:phi0978.phi001:4.26.5 Lake Maeotis (424, 436) Maeotis (429, 436)\n",
      "505 urn:cts:latinLit:phi0978.phi001:4.27.2 Thracian Bosporus (732, 749) Bosporus (741, 749)\n",
      "506 urn:cts:latinLit:phi0978.phi001:4.27.2 M. Lucullus (779, 790) Lucullus (782, 790)\n",
      "508 urn:cts:latinLit:phi0978.phi001:4.27.2 Gulf of Carcinites (1266, 1284) Carcinites (1274, 1284)\n",
      "511 urn:cts:latinLit:phi0978.phi001:4.27.2 Straits of Gades (1516, 1532) Gades (1527, 1532)\n",
      "527 urn:cts:latinLit:phi0978.phi001:4.27.4 Promontory of the Cimbri (346, 370) Cimbri (364, 370)\n",
      "652 urn:cts:latinLit:phi0978.phi001:4.34.1 Promontory of the Pyrenees (65, 91) Pyrenees (83, 91)\n",
      "702 urn:cts:latinLit:phi0978.phi001:4.35.1 Promontory of Olisipo (394, 415) Olisipo (408, 415)\n",
      "711 urn:cts:latinLit:phi0978.phi001:4.35.2 River of Lethe (287, 301) Lethe (296, 301)\n",
      "720 urn:cts:latinLit:phi0978.phi001:4.35.4 Castra Servilia (465, 480) Servilia (472, 480)\n",
      "746 urn:cts:latinLit:phi0978.phi001:4.36.1 Straits of Gades (384, 400) Gades (395, 400)\n",
      "751 urn:cts:latinLit:phi0978.phi001:4.36.1 Isle of Juno (1069, 1081) Juno (1077, 1081)\n"
     ]
    }
   ],
   "source": [
    "## detect partially overlapping annotations\n",
    "\n",
    "Overlapping_Annotations = [] ## create a list of overlapping annotations\n",
    "\n",
    "for i1, Annotation_to_Check in enumerate(filtered_NER_Flair_Book4[\"Reference\"]): ## for each annotation in the subdataset\n",
    "    Start_End_Pos1 = (filtered_NER_Flair_Book4[\"First position\"][i1], filtered_NER_Flair_Book4[\"Last position\"][i1]) ## create a tuple of the start and end position\n",
    "    \n",
    "    for i2, ToposText_Annotation in enumerate(ToposText_Book4[\"Reference\"]): ## for each annotation in ToposText\n",
    "        Start_End_Pos2 = (ToposText_Book4[\"Start position\"][i2], ToposText_Book4[\"End position\"][i2]) ## create a tuple of the start and end position\n",
    "        \n",
    "        if Annotation_to_Check == ToposText_Annotation: ## if they have the same reference\n",
    "            \n",
    "            ## check if the ToposText annotation is included in the NER annotation or viceversa\n",
    "            if (Start_End_Pos1[0] <= Start_End_Pos2[0] and Start_End_Pos1[1] >= Start_End_Pos2[1]) or (Start_End_Pos2[0] <= Start_End_Pos1[0] and Start_End_Pos2[1] >= Start_End_Pos1[1]):\n",
    "                Overlapping_Annotations.append((Annotation_to_Check, Start_End_Pos1[0]))\n",
    "                \n",
    "                print(i1, Annotation_to_Check, filtered_NER_Flair_Book4[\"Named Entity\"][i1], Start_End_Pos1, ToposText_Book4[\"Tagged Entity\"][i2], Start_End_Pos2)"
   ]
  },
  {
   "cell_type": "code",
   "execution_count": 19,
   "id": "f6dbfb47",
   "metadata": {
    "scrolled": true
   },
   "outputs": [
    {
     "data": {
      "text/plain": [
       "88"
      ]
     },
     "execution_count": 19,
     "metadata": {},
     "output_type": "execute_result"
    }
   ],
   "source": [
    "len(Overlapping_Annotations)"
   ]
  },
  {
   "cell_type": "markdown",
   "id": "536a8381",
   "metadata": {},
   "source": [
    "# 1.8.4 New Annotations from Flair NER"
   ]
  },
  {
   "cell_type": "markdown",
   "id": "e191e55c",
   "metadata": {},
   "source": [
    "In total, we detected 631 new annotations detected by Flair NER that were not in ToposText. We also excluded entities detected by Flair NER in capital letters and common nouns."
   ]
  },
  {
   "cell_type": "code",
   "execution_count": 20,
   "id": "eb6a173b",
   "metadata": {},
   "outputs": [],
   "source": [
    "## the subdataset contains only the new annotations from Flair NER (673)\n",
    "filtered_NER_Flair_Book4 = filtered_NER_Flair_Book4[~filtered_NER_Flair_Book4[['Reference', 'First position']].apply(tuple, axis=1).isin(Overlapping_Annotations)]"
   ]
  },
  {
   "cell_type": "code",
   "execution_count": 21,
   "id": "46fd8dd8",
   "metadata": {},
   "outputs": [
    {
     "data": {
      "text/plain": [
       "673"
      ]
     },
     "execution_count": 21,
     "metadata": {},
     "output_type": "execute_result"
    }
   ],
   "source": [
    "len(filtered_NER_Flair_Book4)"
   ]
  },
  {
   "cell_type": "code",
   "execution_count": 22,
   "id": "b4bd9a86",
   "metadata": {},
   "outputs": [],
   "source": [
    "## filter out entities in capital letters\n",
    "filtered_NER_Flair_Book4 = filtered_NER_Flair_Book4[~filtered_NER_Flair_Book4['Named Entity'].str.isupper()]"
   ]
  },
  {
   "cell_type": "code",
   "execution_count": 23,
   "id": "bdbfc8aa",
   "metadata": {},
   "outputs": [
    {
     "data": {
      "text/plain": [
       "633"
      ]
     },
     "execution_count": 23,
     "metadata": {},
     "output_type": "execute_result"
    }
   ],
   "source": [
    "len(filtered_NER_Flair_Book4)"
   ]
  },
  {
   "cell_type": "code",
   "execution_count": 24,
   "id": "88e34d03",
   "metadata": {},
   "outputs": [],
   "source": [
    "## filter out common nouns\n",
    "filtered_NER_Flair_Book4 = filtered_NER_Flair_Book4[~filtered_NER_Flair_Book4['Named Entity'].str.islower()]"
   ]
  },
  {
   "cell_type": "code",
   "execution_count": 25,
   "id": "1dd5d9f3",
   "metadata": {},
   "outputs": [
    {
     "data": {
      "text/plain": [
       "631"
      ]
     },
     "execution_count": 25,
     "metadata": {},
     "output_type": "execute_result"
    }
   ],
   "source": [
    "len(filtered_NER_Flair_Book4)"
   ]
  },
  {
   "cell_type": "markdown",
   "id": "9bdb81c7",
   "metadata": {},
   "source": [
    "# 1.8.5 Adding the New Annotations to ToposText"
   ]
  },
  {
   "cell_type": "markdown",
   "id": "9c077429",
   "metadata": {},
   "source": [
    "2,508 entries in total from a previous dataset of 1,877 entries in ToposText."
   ]
  },
  {
   "cell_type": "code",
   "execution_count": 26,
   "id": "d2d1caec",
   "metadata": {},
   "outputs": [],
   "source": [
    "## empty the content of column 'Score'\n",
    "filtered_NER_Flair_Book4['Score'] = ''"
   ]
  },
  {
   "cell_type": "code",
   "execution_count": 27,
   "id": "e865b149",
   "metadata": {},
   "outputs": [],
   "source": [
    "# rename columns before concatenating the CSV file and the filtered_NER_Flair\n",
    "filtered_NER_Flair_Book4 = filtered_NER_Flair_Book4.rename(columns={'Named Entity': 'Tagged Entity', 'Type': 'Class', 'First position': 'Start position', 'Last position': 'End position', 'Score': 'ToposText ID'})"
   ]
  },
  {
   "cell_type": "code",
   "execution_count": 28,
   "id": "8ad2beda",
   "metadata": {},
   "outputs": [],
   "source": [
    "## concatenate the two subdatasets\n",
    "Enriched_ToposText_Book4 = pd.concat([ToposText_Book4, filtered_NER_Flair_Book4], ignore_index=True)\n",
    "Enriched_ToposText_Book4.drop(\"index\", axis=1, inplace=True)"
   ]
  },
  {
   "cell_type": "code",
   "execution_count": 29,
   "id": "bb3f5a3e",
   "metadata": {},
   "outputs": [],
   "source": [
    "## reorder the dataset according to the reference and start position (ascending order)\n",
    "Enriched_ToposText_Book4 = Enriched_ToposText_Book4.sort_values(by=[Enriched_ToposText_Book4.columns[0], Enriched_ToposText_Book4.columns[3]])"
   ]
  },
  {
   "cell_type": "code",
   "execution_count": 30,
   "id": "3575e4b7",
   "metadata": {},
   "outputs": [
    {
     "data": {
      "text/html": [
       "<div>\n",
       "<style scoped>\n",
       "    .dataframe tbody tr th:only-of-type {\n",
       "        vertical-align: middle;\n",
       "    }\n",
       "\n",
       "    .dataframe tbody tr th {\n",
       "        vertical-align: top;\n",
       "    }\n",
       "\n",
       "    .dataframe thead th {\n",
       "        text-align: right;\n",
       "    }\n",
       "</style>\n",
       "<table border=\"1\" class=\"dataframe\">\n",
       "  <thead>\n",
       "    <tr style=\"text-align: right;\">\n",
       "      <th></th>\n",
       "      <th>Reference</th>\n",
       "      <th>Tagged Entity</th>\n",
       "      <th>Class</th>\n",
       "      <th>Start position</th>\n",
       "      <th>End position</th>\n",
       "      <th>ToposText ID</th>\n",
       "    </tr>\n",
       "  </thead>\n",
       "  <tbody>\n",
       "    <tr>\n",
       "      <th>0</th>\n",
       "      <td>urn:cts:latinLit:phi0978.phi001:4.1.1</td>\n",
       "      <td>Europe</td>\n",
       "      <td>LOC</td>\n",
       "      <td>41</td>\n",
       "      <td>47</td>\n",
       "      <td></td>\n",
       "    </tr>\n",
       "    <tr>\n",
       "      <th>1</th>\n",
       "      <td>urn:cts:latinLit:phi0978.phi001:4.1.1</td>\n",
       "      <td>Acroceraunia</td>\n",
       "      <td>['place']</td>\n",
       "      <td>75</td>\n",
       "      <td>87</td>\n",
       "      <td>https://topostext.org/place/404194LKer</td>\n",
       "    </tr>\n",
       "    <tr>\n",
       "      <th>2</th>\n",
       "      <td>urn:cts:latinLit:phi0978.phi001:4.1.1</td>\n",
       "      <td>Hellespont</td>\n",
       "      <td>['place']</td>\n",
       "      <td>105</td>\n",
       "      <td>115</td>\n",
       "      <td>https://topostext.org/place/402264WHel</td>\n",
       "    </tr>\n",
       "    <tr>\n",
       "      <th>3</th>\n",
       "      <td>urn:cts:latinLit:phi0978.phi001:4.1.1</td>\n",
       "      <td>Epirus</td>\n",
       "      <td>['place']</td>\n",
       "      <td>217</td>\n",
       "      <td>223</td>\n",
       "      <td>https://topostext.org/place/395205REpe</td>\n",
       "    </tr>\n",
       "    <tr>\n",
       "      <th>4</th>\n",
       "      <td>urn:cts:latinLit:phi0978.phi001:4.1.1</td>\n",
       "      <td>Acarnania</td>\n",
       "      <td>['place']</td>\n",
       "      <td>225</td>\n",
       "      <td>234</td>\n",
       "      <td>https://topostext.org/place/388210RAka</td>\n",
       "    </tr>\n",
       "    <tr>\n",
       "      <th>...</th>\n",
       "      <td>...</td>\n",
       "      <td>...</td>\n",
       "      <td>...</td>\n",
       "      <td>...</td>\n",
       "      <td>...</td>\n",
       "      <td>...</td>\n",
       "    </tr>\n",
       "    <tr>\n",
       "      <th>2503</th>\n",
       "      <td>urn:cts:latinLit:phi0978.phi001:4.9.2</td>\n",
       "      <td>Cretan</td>\n",
       "      <td>['demonym']</td>\n",
       "      <td>896</td>\n",
       "      <td>902</td>\n",
       "      <td>https://topostext.org/place/352252IKre</td>\n",
       "    </tr>\n",
       "    <tr>\n",
       "      <th>2504</th>\n",
       "      <td>urn:cts:latinLit:phi0978.phi001:4.9.2</td>\n",
       "      <td>Aegean</td>\n",
       "      <td>['place']</td>\n",
       "      <td>924</td>\n",
       "      <td>930</td>\n",
       "      <td>https://topostext.org/place/381253WAeg</td>\n",
       "    </tr>\n",
       "    <tr>\n",
       "      <th>2505</th>\n",
       "      <td>urn:cts:latinLit:phi0978.phi001:4.9.2</td>\n",
       "      <td>Myrtoan</td>\n",
       "      <td>['demonym']</td>\n",
       "      <td>955</td>\n",
       "      <td>962</td>\n",
       "      <td>https://topostext.org/place/370240WMyr</td>\n",
       "    </tr>\n",
       "    <tr>\n",
       "      <th>2506</th>\n",
       "      <td>urn:cts:latinLit:phi0978.phi001:4.9.2</td>\n",
       "      <td>Megara</td>\n",
       "      <td>['place']</td>\n",
       "      <td>1013</td>\n",
       "      <td>1019</td>\n",
       "      <td>https://topostext.org/place/380233PMeg</td>\n",
       "    </tr>\n",
       "    <tr>\n",
       "      <th>2507</th>\n",
       "      <td>urn:cts:latinLit:phi0978.phi001:4.9.2</td>\n",
       "      <td>Attica</td>\n",
       "      <td>['place']</td>\n",
       "      <td>1049</td>\n",
       "      <td>1055</td>\n",
       "      <td>https://topostext.org/place/379239RAtt</td>\n",
       "    </tr>\n",
       "  </tbody>\n",
       "</table>\n",
       "<p>2508 rows × 6 columns</p>\n",
       "</div>"
      ],
      "text/plain": [
       "                                  Reference Tagged Entity        Class  \\\n",
       "0     urn:cts:latinLit:phi0978.phi001:4.1.1        Europe          LOC   \n",
       "1     urn:cts:latinLit:phi0978.phi001:4.1.1  Acroceraunia    ['place']   \n",
       "2     urn:cts:latinLit:phi0978.phi001:4.1.1    Hellespont    ['place']   \n",
       "3     urn:cts:latinLit:phi0978.phi001:4.1.1        Epirus    ['place']   \n",
       "4     urn:cts:latinLit:phi0978.phi001:4.1.1     Acarnania    ['place']   \n",
       "...                                     ...           ...          ...   \n",
       "2503  urn:cts:latinLit:phi0978.phi001:4.9.2        Cretan  ['demonym']   \n",
       "2504  urn:cts:latinLit:phi0978.phi001:4.9.2        Aegean    ['place']   \n",
       "2505  urn:cts:latinLit:phi0978.phi001:4.9.2       Myrtoan  ['demonym']   \n",
       "2506  urn:cts:latinLit:phi0978.phi001:4.9.2        Megara    ['place']   \n",
       "2507  urn:cts:latinLit:phi0978.phi001:4.9.2        Attica    ['place']   \n",
       "\n",
       "      Start position  End position                            ToposText ID  \n",
       "0                 41            47                                          \n",
       "1                 75            87  https://topostext.org/place/404194LKer  \n",
       "2                105           115  https://topostext.org/place/402264WHel  \n",
       "3                217           223  https://topostext.org/place/395205REpe  \n",
       "4                225           234  https://topostext.org/place/388210RAka  \n",
       "...              ...           ...                                     ...  \n",
       "2503             896           902  https://topostext.org/place/352252IKre  \n",
       "2504             924           930  https://topostext.org/place/381253WAeg  \n",
       "2505             955           962  https://topostext.org/place/370240WMyr  \n",
       "2506            1013          1019  https://topostext.org/place/380233PMeg  \n",
       "2507            1049          1055  https://topostext.org/place/379239RAtt  \n",
       "\n",
       "[2508 rows x 6 columns]"
      ]
     },
     "execution_count": 30,
     "metadata": {},
     "output_type": "execute_result"
    }
   ],
   "source": [
    "Enriched_ToposText_Book4.reset_index(inplace=True) ## reset the index\n",
    "Enriched_ToposText_Book4.drop(\"index\", axis=1, inplace=True) ## drop the 'index' column\n",
    "Enriched_ToposText_Book4"
   ]
  },
  {
   "cell_type": "code",
   "execution_count": 31,
   "id": "1f5cd51d",
   "metadata": {},
   "outputs": [],
   "source": [
    "Enriched_ToposText_Book4.to_csv(\"1.8.Enriched_ToposText_Book4.csv\")"
   ]
  }
 ],
 "metadata": {
  "kernelspec": {
   "display_name": "Python 3 (ipykernel)",
   "language": "python",
   "name": "python3"
  },
  "language_info": {
   "codemirror_mode": {
    "name": "ipython",
    "version": 3
   },
   "file_extension": ".py",
   "mimetype": "text/x-python",
   "name": "python",
   "nbconvert_exporter": "python",
   "pygments_lexer": "ipython3",
   "version": "3.9.13"
  }
 },
 "nbformat": 4,
 "nbformat_minor": 5
}
