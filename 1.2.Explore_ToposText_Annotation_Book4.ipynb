{
 "cells": [
  {
   "cell_type": "markdown",
   "id": "864d9ab9",
   "metadata": {},
   "source": [
    "# Explore ToposText Annotations in Book 4"
   ]
  },
  {
   "cell_type": "markdown",
   "id": "1acb0758",
   "metadata": {},
   "source": [
    "We explored the CSV file containing the annotations in ToposText Book 4 (1,888 annotations). The most annotated words are: Euxine, Chersonesus, Ister, Asia, Agrippa. In total, 1,171 entities were annotated in Book 4.\n",
    "\n",
    "1,309 annotations were labelled as \"place', 164 as 'ethnic', 43 as 'demonym' and 3 as 'person'. 369 annotations were not associated to a Class.\n",
    "\n",
    "The most annotated is chapter 18 with 188 annotations, followed by chapter 23 and chapter 17 with 137 and 121 annotations."
   ]
  },
  {
   "cell_type": "code",
   "execution_count": 1,
   "id": "95b508fc",
   "metadata": {},
   "outputs": [],
   "source": [
    "import pandas as pd\n",
    "import re\n",
    "import matplotlib.pyplot as plt"
   ]
  },
  {
   "cell_type": "code",
   "execution_count": 13,
   "id": "54a17f91",
   "metadata": {
    "scrolled": true
   },
   "outputs": [],
   "source": [
    "## open the csv file containing all the ToposText annotations (1,888 rows)\n",
    "ToposText_Book4 = pd.read_csv(\"/Users/u0154817/OneDrive - KU Leuven/Documents/KU Leuven/PhD project 'Greek Spaces in Roman Times'/Data_Extraction/Python Scripts/1.1.ToposText_Annotations_Book_4.csv\", delimiter=\",\")"
   ]
  },
  {
   "cell_type": "markdown",
   "id": "2f9e2153",
   "metadata": {},
   "source": [
    "# 1.2.1 Reference Column"
   ]
  },
  {
   "cell_type": "markdown",
   "id": "bd1be6f7",
   "metadata": {},
   "source": [
    "The most annotated is chapter 18 with 188 annotations, followed by chapter 23 and chapter 17 with 137 and 121 annotations."
   ]
  },
  {
   "cell_type": "code",
   "execution_count": 14,
   "id": "a3c228df",
   "metadata": {},
   "outputs": [
    {
     "data": {
      "text/plain": [
       "18    188\n",
       "23    137\n",
       "17    121\n",
       "19     98\n",
       "20     98\n",
       "26     89\n",
       "12     84\n",
       "35     71\n",
       "10     68\n",
       "1      64\n",
       "Name: Chapter, dtype: int64"
      ]
     },
     "execution_count": 14,
     "metadata": {},
     "output_type": "execute_result"
    }
   ],
   "source": [
    "## get the chapter from each reference\n",
    "\n",
    "Column_Chapter=[] ## create a new list of chapters\n",
    "\n",
    "for i, Reference in enumerate(ToposText_Book4[\"Reference\"]):\n",
    "    \n",
    "    Pattern=r\"urn:cts:latinLit:phi0978\\.phi001:4.(\\d+)(?:\\.(\\d))?\\.\" ## match the reference pattern\n",
    "    Match=re.search(Pattern,Reference)\n",
    "    Column_Chapter.append(int(Match[1])) ## extract the chapter\n",
    "\n",
    "ToposText_Book4[\"Chapter\"]=Column_Chapter\n",
    "ToposText_Book4[\"Chapter\"].value_counts().head(10)"
   ]
  },
  {
   "cell_type": "markdown",
   "id": "f96a8a46",
   "metadata": {},
   "source": [
    "Book 4 contains 37 chapters."
   ]
  },
  {
   "cell_type": "code",
   "execution_count": 15,
   "id": "cc702e5f",
   "metadata": {},
   "outputs": [
    {
     "data": {
      "text/plain": [
       "37"
      ]
     },
     "execution_count": 15,
     "metadata": {},
     "output_type": "execute_result"
    }
   ],
   "source": [
    "## calculate the number of chapters in Book 4\n",
    "\n",
    "len(ToposText_Book4[\"Chapter\"].value_counts())"
   ]
  },
  {
   "cell_type": "code",
   "execution_count": 17,
   "id": "e68806ae",
   "metadata": {},
   "outputs": [
    {
     "data": {
      "image/png": "[encoded data removed]",
      "text/plain": [
       "<Figure size 1000x500 with 1 Axes>"
      ]
     },
     "metadata": {},
     "output_type": "display_data"
    }
   ],
   "source": [
    "## plot the distribution of ToposText annotations in Book 4\n",
    "\n",
    "plt.figure(figsize=(10, 5))\n",
    "\n",
    "## count the unique values in Chapter column\n",
    "counts = ToposText_Book4[\"Chapter\"].value_counts()\n",
    "\n",
    "## sort the counts dictionary by key in ascending order\n",
    "sorted_counts = dict(sorted(counts.items()))\n",
    "\n",
    "## plot the sorted counts as a bar plot\n",
    "plt.bar(sorted_counts.keys(), sorted_counts.values())\n",
    "\n",
    "plt.xlabel('chapter')\n",
    "plt.ylabel('n of annotations')\n",
    "\n",
    "## show the plot\n",
    "plt.show()"
   ]
  },
  {
   "cell_type": "markdown",
   "id": "68e011d4",
   "metadata": {},
   "source": [
    "# 1.2.2 Tagged Entity Column"
   ]
  },
  {
   "cell_type": "markdown",
   "id": "e65c9bbb",
   "metadata": {},
   "source": [
    "'Euxine' is the most annotated word with 17 annotations, followed by 'Chersonesus' (14) and 'Ister' (13). In total, 1,171 entities were annotated in Book 4. 13 annotations refer to a common noun."
   ]
  },
  {
   "cell_type": "code",
   "execution_count": 56,
   "id": "080e6ee3",
   "metadata": {},
   "outputs": [
    {
     "data": {
      "text/plain": [
       "Euxine          17\n",
       "Chersonesus     14\n",
       "Ister           13\n",
       "Asia            12\n",
       "Agrippa         12\n",
       "Peloponnesus    11\n",
       "Macedonia       11\n",
       "Thrace          10\n",
       "Aitolia         10\n",
       "Rhine           10\n",
       "Name: Tagged Entity, dtype: int64"
      ]
     },
     "execution_count": 56,
     "metadata": {},
     "output_type": "execute_result"
    }
   ],
   "source": [
    "ToposText_Book4[\"Tagged Entity\"].value_counts().head(10)"
   ]
  },
  {
   "cell_type": "code",
   "execution_count": 57,
   "id": "1b4c330f",
   "metadata": {},
   "outputs": [
    {
     "data": {
      "text/plain": [
       "1171"
      ]
     },
     "execution_count": 57,
     "metadata": {},
     "output_type": "execute_result"
    }
   ],
   "source": [
    "len(ToposText_Book4[\"Tagged Entity\"].value_counts())"
   ]
  },
  {
   "cell_type": "code",
   "execution_count": 67,
   "id": "240fc2d6",
   "metadata": {},
   "outputs": [
    {
     "data": {
      "text/plain": [
       "11"
      ]
     },
     "execution_count": 67,
     "metadata": {},
     "output_type": "execute_result"
    }
   ],
   "source": [
    "# Count how many words in the 'Tagged Entity' column begin with a lowercase letter\n",
    "\n",
    "Common_Nouns = sum(ToposText_Book4[\"Tagged Entity\"].str.islower())\n",
    "Common_Nouns"
   ]
  },
  {
   "cell_type": "markdown",
   "id": "5c5391a7",
   "metadata": {},
   "source": [
    "# 1.2.3 Class Column"
   ]
  },
  {
   "cell_type": "markdown",
   "id": "7171c4d6",
   "metadata": {},
   "source": [
    "1,309 annotations were labelled as \"place', 164 as 'ethnic', 43 as 'demonym' and 3 as 'person'. 369 annotations were not associated to a Class."
   ]
  },
  {
   "cell_type": "code",
   "execution_count": 68,
   "id": "5febff0a",
   "metadata": {},
   "outputs": [
    {
     "data": {
      "text/plain": [
       "['place']      1309\n",
       "['ethnic']      164\n",
       "['demonym']      43\n",
       "['person']        3\n",
       "Name: Class, dtype: int64"
      ]
     },
     "execution_count": 68,
     "metadata": {},
     "output_type": "execute_result"
    }
   ],
   "source": [
    "ToposText_Book4[\"Class\"].value_counts()"
   ]
  },
  {
   "cell_type": "code",
   "execution_count": 39,
   "id": "b6c4b71a",
   "metadata": {},
   "outputs": [
    {
     "data": {
      "text/plain": [
       "369"
      ]
     },
     "execution_count": 39,
     "metadata": {},
     "output_type": "execute_result"
    }
   ],
   "source": [
    "## count the number of NaN values in the 'Class' column\n",
    "Nan_Values_Class = ToposText_Book4[\"Class\"].isna().sum()\n",
    "Nan_Values_Class"
   ]
  },
  {
   "cell_type": "markdown",
   "id": "f4cdef8e",
   "metadata": {},
   "source": [
    "# 1.2.4. ToposText ID Column"
   ]
  },
  {
   "cell_type": "markdown",
   "id": "a574e0f7",
   "metadata": {},
   "source": [
    "The annotations refer to 893 ToposText IDs. 369 annotations do not contain a ToposText ID."
   ]
  },
  {
   "cell_type": "code",
   "execution_count": 43,
   "id": "42305563",
   "metadata": {},
   "outputs": [
    {
     "data": {
      "text/plain": [
       "https://topostext.org/place/435335WPon    17\n",
       "https://topostext.org/place/475310RSky    15\n",
       "https://topostext.org/place/442277WIst    15\n",
       "https://topostext.org/place/408225RMak    13\n",
       "https://topostext.org/place/375222RPel    11\n",
       "                                          ..\n",
       "https://topostext.org/place/393229PPag     1\n",
       "https://topostext.org/place/393229UDem     1\n",
       "https://topostext.org/place/393224UPha     1\n",
       "https://topostext.org/place/405220LBor     1\n",
       "https://topostext.org/place/195390WEry     1\n",
       "Name: ToposText ID, Length: 893, dtype: int64"
      ]
     },
     "execution_count": 43,
     "metadata": {},
     "output_type": "execute_result"
    }
   ],
   "source": [
    "ToposText_Book4[\"ToposText ID\"].value_counts()"
   ]
  },
  {
   "cell_type": "code",
   "execution_count": 44,
   "id": "b6f3b9aa",
   "metadata": {},
   "outputs": [
    {
     "data": {
      "text/plain": [
       "893"
      ]
     },
     "execution_count": 44,
     "metadata": {},
     "output_type": "execute_result"
    }
   ],
   "source": [
    "len(ToposText_Book4[\"ToposText ID\"].value_counts())"
   ]
  },
  {
   "cell_type": "code",
   "execution_count": 69,
   "id": "1223e10a",
   "metadata": {},
   "outputs": [
    {
     "data": {
      "text/plain": [
       "369"
      ]
     },
     "execution_count": 69,
     "metadata": {},
     "output_type": "execute_result"
    }
   ],
   "source": [
    "## count the number of NaN values in the 'ToposText ID' column\n",
    "Nan_Values_ToposTextID = ToposText_Book4[\"ToposText ID\"].isna().sum()\n",
    "Nan_Values_ToposTextID"
   ]
  }
 ],
 "metadata": {
  "kernelspec": {
   "display_name": "Python 3 (ipykernel)",
   "language": "python",
   "name": "python3"
  },
  "language_info": {
   "codemirror_mode": {
    "name": "ipython",
    "version": 3
   },
   "file_extension": ".py",
   "mimetype": "text/x-python",
   "name": "python",
   "nbconvert_exporter": "python",
   "pygments_lexer": "ipython3",
   "version": "3.9.13"
  }
 },
 "nbformat": 4,
 "nbformat_minor": 5
}
