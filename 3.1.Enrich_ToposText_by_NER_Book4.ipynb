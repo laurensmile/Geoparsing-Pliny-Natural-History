{
 "cells": [
  {
   "cell_type": "markdown",
   "id": "1f4f877f",
   "metadata": {},
   "source": [
    "# Enrich ToposText Annotation by Flair NER in Book 4"
   ]
  },
  {
   "cell_type": "markdown",
   "id": "c611a5f1",
   "metadata": {},
   "source": [
    "The notebook includes code designed to enhance the ToposText annotation through the utilization of the flair ner-large extraction.\n",
    "\n",
    "The steps are:\n",
    "\n",
    "- open the IOB-formatted ToposText annotation 'place' Class;\n",
    "- open the output of the Flair ner-large annotation containing the LOC entities;\n",
    "- for each Flair annotation, a validation process ensues, wherein it is ascertained whether it is either fully or partially present within the existing ToposText annotation;\n",
    "- in cases where the Flair annotation is not already accounted for, it is integrated into the ToposText annotation.\n",
    "\n",
    "The analysis determined that a total of 795 annotations identified by the Flair ner-large process were incorporated into the ToposText annotation."
   ]
  },
  {
   "cell_type": "code",
   "execution_count": null,
   "id": "9c930326",
   "metadata": {},
   "outputs": [],
   "source": [
    "import pandas as pd"
   ]
  },
  {
   "cell_type": "code",
   "execution_count": null,
   "id": "abf1da96",
   "metadata": {
    "scrolled": true
   },
   "outputs": [],
   "source": [
    "## open the file containing ToposText annotations in Book 4 (18,664 rows)\n",
    "ToposText_Book4 = pd.read_csv(\"/Users/u0154817/OneDrive - KU Leuven/Documents/KU Leuven/PhD project 'Greek Spaces in Roman Times'/Data_Extraction/Outputs/1.6.BIO_ToposText_Class_Book4.csv\", delimiter=\",\")"
   ]
  },
  {
   "cell_type": "code",
   "execution_count": null,
   "id": "799252d1",
   "metadata": {},
   "outputs": [],
   "source": [
    "len(ToposText_Book4)"
   ]
  },
  {
   "cell_type": "code",
   "execution_count": null,
   "id": "32a3f2eb",
   "metadata": {},
   "outputs": [],
   "source": [
    "## open the file containing the output of flair-ner large (18,664 entries)\n",
    "NER_Flair_Book4 = pd.read_csv(\"/Users/u0154817/OneDrive - KU Leuven/Documents/KU Leuven/PhD project 'Greek Spaces in Roman Times'/Data_Extraction/Outputs/2.2.BIO_NER_Flair_spaCy_Book4.csv\")"
   ]
  },
  {
   "cell_type": "code",
   "execution_count": null,
   "id": "ef86200d",
   "metadata": {},
   "outputs": [],
   "source": [
    "len(NER_Flair_Book4)"
   ]
  },
  {
   "cell_type": "code",
   "execution_count": null,
   "id": "e1013b30",
   "metadata": {
    "scrolled": true
   },
   "outputs": [],
   "source": [
    "## select only the LOC annotations in flair ner-large\n",
    "\n",
    "## create a copy of the Flair ner-large column\n",
    "NER_Flair_Book4['BIO_Flair-large_copy'] = NER_Flair_Book4['BIO_Flair-large']\n",
    "\n",
    "## the function trasnform all the annotations not including LOC into O\n",
    "def update_values(value):\n",
    "    if 'LOC' not in value:\n",
    "        return 'O'\n",
    "    return value\n",
    "\n",
    "NER_Flair_Book4['BIO_Flair-large_copy'] = NER_Flair_Book4['BIO_Flair-large_copy'].apply(update_values)"
   ]
  },
  {
   "cell_type": "code",
   "execution_count": null,
   "id": "ae0e1fea",
   "metadata": {
    "scrolled": true
   },
   "outputs": [],
   "source": [
    "ToposText_Book4['flair_nerlarge'] = NER_Flair_Book4['BIO_Flair-large_copy']\n",
    "ToposText_Book4['ToposText_update'] = ToposText_Book4['ToposText']"
   ]
  },
  {
   "cell_type": "code",
   "execution_count": null,
   "id": "89614cc5",
   "metadata": {
    "scrolled": true
   },
   "outputs": [],
   "source": [
    "for index, NER_annotation in enumerate(ToposText_Book4['flair_nerlarge']): ## for each token in flair ner-large\n",
    "            \n",
    "    if NER_annotation == 'B-LOC': ## for each B-LOC entity in flair ner-large\n",
    "                \n",
    "        if ToposText_Book4['ToposText_update'][index] == 'O': ## if no ToposText annotation exists\n",
    "            \n",
    "            if ToposText_Book4['flair_nerlarge'][index+1] != 'I-LOC': ## if B-LOC is not followed by I-LOC\n",
    "                ToposText_Book4['ToposText_update'][index] = NER_annotation ## add the annotation\n",
    "            \n",
    "            else: ## if B-LOC is followed by I-LOC\n",
    "                \n",
    "                flag = False\n",
    "                \n",
    "                for n in range(1,100):\n",
    "                    \n",
    "                    if ToposText_Book4['flair_nerlarge'][index+n] == 'I-LOC': ## inside the multi-word LOC entity\n",
    "                        \n",
    "                        if len(ToposText_Book4['ToposText_update'][index+n]) > 1: ## ToposText annotated an entity in this span\n",
    "                            flag = True\n",
    "                            \n",
    "                    else: break\n",
    "                        \n",
    "                if flag == False: ## no entity was predicted in the span\n",
    "                    \n",
    "                    ToposText_Book4['ToposText_update'][index] = NER_annotation ## add the B-LOC annotation\n",
    "                    \n",
    "                    for i in range(1,100):\n",
    "                        if ToposText_Book4['flair_nerlarge'][index+i] == 'I-LOC':\n",
    "                            ToposText_Book4['ToposText_update'][index+i] = 'I-LOC'\n",
    "                        else : break"
   ]
  },
  {
   "cell_type": "code",
   "execution_count": null,
   "id": "d2b9edcd",
   "metadata": {},
   "outputs": [],
   "source": [
    "ToposText_Book4['ToposText_update'].value_counts()"
   ]
  }
 ],
 "metadata": {
  "kernelspec": {
   "display_name": "Python 3 (ipykernel)",
   "language": "python",
   "name": "python3"
  },
  "language_info": {
   "codemirror_mode": {
    "name": "ipython",
    "version": 3
   },
   "file_extension": ".py",
   "mimetype": "text/x-python",
   "name": "python",
   "nbconvert_exporter": "python",
   "pygments_lexer": "ipython3",
   "version": "3.9.13"
  }
 },
 "nbformat": 4,
 "nbformat_minor": 5
}
