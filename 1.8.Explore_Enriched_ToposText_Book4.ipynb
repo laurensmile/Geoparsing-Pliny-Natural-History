{
 "cells": [
  {
   "cell_type": "markdown",
   "id": "94d7e897",
   "metadata": {},
   "source": [
    "# Explore the Enriched ToposText Annotation in Book 4"
   ]
  },
  {
   "cell_type": "markdown",
   "id": "aae957ef",
   "metadata": {},
   "source": [
    "We explored the CSV file containing the annotation in ToposText Book 4 enriched by Flair NER (2,508 annotations). The most annotated is chapter 18 with 266 annotations, followed by chapter 23 and chapter 17 with 183 and 148 annotations.\n",
    "\n",
    "1,301 annotations are labelled as \"place', 418 as 'LOC', 206 as 'MISC', 164 as 'ethnic', 43 as 'demonym', 4 as 'ORG', 3 as 'person' and 3 as 'PER'. 366 annotations were not associated to a Class (these cases were already present in ToposText).\n",
    "\n",
    "997 annotations do not contain a ToposText ID."
   ]
  },
  {
   "cell_type": "code",
   "execution_count": 1,
   "id": "43549667",
   "metadata": {},
   "outputs": [],
   "source": [
    "import pandas as pd\n",
    "import re\n",
    "import matplotlib.pyplot as plt"
   ]
  },
  {
   "cell_type": "code",
   "execution_count": 2,
   "id": "a2634c41",
   "metadata": {},
   "outputs": [],
   "source": [
    "## open the file containing the enriched ToposText annotation in Book 4 (2,508 rows)\n",
    "Enriched_ToposText_Book4 = pd.read_csv(\"/Users/u0154817/OneDrive - KU Leuven/Documents/KU Leuven/PhD project 'Greek Spaces in Roman Times'/Data_Extraction/Outputs/1.7.Enriched_ToposText_Book4.csv\", delimiter=\",\")"
   ]
  },
  {
   "cell_type": "code",
   "execution_count": 3,
   "id": "9dbd3873",
   "metadata": {},
   "outputs": [
    {
     "data": {
      "text/plain": [
       "2508"
      ]
     },
     "execution_count": 3,
     "metadata": {},
     "output_type": "execute_result"
    }
   ],
   "source": [
    "len(Enriched_ToposText_Book4)"
   ]
  },
  {
   "cell_type": "markdown",
   "id": "77f2474e",
   "metadata": {},
   "source": [
    "# 1.8.1 Reference Column"
   ]
  },
  {
   "cell_type": "markdown",
   "id": "d26d06a6",
   "metadata": {},
   "source": [
    "The most annotated is chapter 18 with 266 annotations, followed by chapter 23 and chapter 17 with 183 and 148 annotations."
   ]
  },
  {
   "cell_type": "code",
   "execution_count": 4,
   "id": "22be0518",
   "metadata": {},
   "outputs": [
    {
     "data": {
      "text/plain": [
       "18    266\n",
       "23    183\n",
       "17    148\n",
       "26    144\n",
       "19    126\n",
       "20    122\n",
       "35    110\n",
       "12     90\n",
       "27     84\n",
       "24     83\n",
       "Name: Chapter, dtype: int64"
      ]
     },
     "execution_count": 4,
     "metadata": {},
     "output_type": "execute_result"
    }
   ],
   "source": [
    "## get the chapter from each reference\n",
    "\n",
    "Column_Chapter=[] ## create a new list of chapters\n",
    "\n",
    "for i, Reference in enumerate(Enriched_ToposText_Book4[\"Reference\"]):\n",
    "    \n",
    "    Pattern=r\"urn:cts:latinLit:phi0978\\.phi001:4.(\\d+)(?:\\.(\\d))?\\.\" ## match the reference pattern\n",
    "    Match=re.search(Pattern,Reference)\n",
    "    Column_Chapter.append(int(Match[1])) ## extract the chapter\n",
    "\n",
    "Enriched_ToposText_Book4[\"Chapter\"]=Column_Chapter\n",
    "Enriched_ToposText_Book4[\"Chapter\"].value_counts().head(10)"
   ]
  },
  {
   "cell_type": "code",
   "execution_count": 5,
   "id": "d0578524",
   "metadata": {},
   "outputs": [
    {
     "data": {
      "image/png": "[encoded data removed]",
      "text/plain": [
       "<Figure size 1000x500 with 1 Axes>"
      ]
     },
     "metadata": {},
     "output_type": "display_data"
    }
   ],
   "source": [
    "## plot the distribution of enriched ToposText annotations in Book 4\n",
    "\n",
    "plt.figure(figsize=(10, 5))\n",
    "\n",
    "## count the unique values in Chapter column\n",
    "counts = Enriched_ToposText_Book4[\"Chapter\"].value_counts()\n",
    "\n",
    "## sort the counts dictionary by key in ascending order\n",
    "sorted_counts = dict(sorted(counts.items()))\n",
    "\n",
    "## plot the sorted counts as a bar plot\n",
    "plt.bar(sorted_counts.keys(), sorted_counts.values())\n",
    "\n",
    "plt.xlabel('chapter')\n",
    "plt.ylabel('n of annotations')\n",
    "\n",
    "## show the plot\n",
    "plt.show()"
   ]
  },
  {
   "cell_type": "markdown",
   "id": "c0284366",
   "metadata": {},
   "source": [
    "# 1.8.2 Class Column"
   ]
  },
  {
   "cell_type": "markdown",
   "id": "ca69f142",
   "metadata": {},
   "source": [
    "1,301 annotations are labelled as \"place', 418 as 'LOC', 206 as 'MISC', 164 as 'ethnic', 43 as 'demonym', 4 as 'ORG', 3 as 'person' and 3 as 'PER'. 366 annotations were not associated to a Class (these cases were already present in ToposText)."
   ]
  },
  {
   "cell_type": "code",
   "execution_count": 6,
   "id": "d2dbe50d",
   "metadata": {},
   "outputs": [
    {
     "data": {
      "text/plain": [
       "['place']      1301\n",
       "LOC             418\n",
       "MISC            206\n",
       "['ethnic']      164\n",
       "['demonym']      43\n",
       "ORG               4\n",
       "PER               3\n",
       "['person']        3\n",
       "Name: Class, dtype: int64"
      ]
     },
     "execution_count": 6,
     "metadata": {},
     "output_type": "execute_result"
    }
   ],
   "source": [
    "Enriched_ToposText_Book4[\"Class\"].value_counts()"
   ]
  },
  {
   "cell_type": "code",
   "execution_count": 7,
   "id": "ea9bf6a4",
   "metadata": {},
   "outputs": [
    {
     "data": {
      "text/plain": [
       "366"
      ]
     },
     "execution_count": 7,
     "metadata": {},
     "output_type": "execute_result"
    }
   ],
   "source": [
    "## count the number of NaN values in the 'Class' column\n",
    "Nan_Values_Class = Enriched_ToposText_Book4[\"Class\"].isna().sum()\n",
    "Nan_Values_Class"
   ]
  },
  {
   "cell_type": "markdown",
   "id": "e7cd37e9",
   "metadata": {},
   "source": [
    "# 1.8.3 ToposText ID Column"
   ]
  },
  {
   "cell_type": "markdown",
   "id": "32c93c77",
   "metadata": {},
   "source": [
    "997 annotations do not contain a ToposText ID."
   ]
  },
  {
   "cell_type": "code",
   "execution_count": 8,
   "id": "9cbd248f",
   "metadata": {},
   "outputs": [
    {
     "data": {
      "text/plain": [
       "997"
      ]
     },
     "execution_count": 8,
     "metadata": {},
     "output_type": "execute_result"
    }
   ],
   "source": [
    "## count the number of NaN values in the 'ToposText ID' column\n",
    "Nan_Values_ToposTextID = Enriched_ToposText_Book4[\"ToposText ID\"].isna().sum()\n",
    "Nan_Values_ToposTextID"
   ]
  }
 ],
 "metadata": {
  "kernelspec": {
   "display_name": "Python 3 (ipykernel)",
   "language": "python",
   "name": "python3"
  },
  "language_info": {
   "codemirror_mode": {
    "name": "ipython",
    "version": 3
   },
   "file_extension": ".py",
   "mimetype": "text/x-python",
   "name": "python",
   "nbconvert_exporter": "python",
   "pygments_lexer": "ipython3",
   "version": "3.9.13"
  }
 },
 "nbformat": 4,
 "nbformat_minor": 5
}
