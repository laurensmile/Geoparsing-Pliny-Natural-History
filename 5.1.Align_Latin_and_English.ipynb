{
 "cells": [
  {
   "cell_type": "markdown",
   "id": "2ccd1054",
   "metadata": {},
   "source": [
    "# Sentence Alignment Latin-English using Vecalign and LaBSE embeddings"
   ]
  },
  {
   "cell_type": "markdown",
   "id": "66d943d3",
   "metadata": {},
   "source": [
    "Using the Vacalign overp.py script the code takes as input the .TXT files containing the split sentences in English and Latin (lemmatized and not-lemmatized). The output files are the overlap files, that is files containing the concatenation of sentences (i.e., sentence 0, sentence 0 + sentence 1, sentence 0 + sentence 1 + sentence 2, etc.)."
   ]
  },
  {
   "cell_type": "code",
   "execution_count": null,
   "id": "c9424099",
   "metadata": {},
   "outputs": [],
   "source": [
    "## generate overlaps file\n",
    "## the source files are in the 'pliny' folder\n",
    "\n",
    "!python overlap.py -i pliny/4.2.Sentences_Eng -o pliny/overlaps.eng -n 10\n",
    "!python overlap.py -i pliny/4.4.Sentences_Lat -o pliny/overlaps.lat -n 10\n",
    "!python overlap.py -i pliny/4.5.Sentences_Lat_lemm -o pliny/overlaps.lat_lemm -n 10"
   ]
  },
  {
   "cell_type": "markdown",
   "id": "8249ff63",
   "metadata": {},
   "source": [
    "Each overlap file is open. A list is created with the content of the overlap file, that is a list of sentences."
   ]
  },
  {
   "cell_type": "code",
   "execution_count": null,
   "id": "8d2e5f1e",
   "metadata": {},
   "outputs": [],
   "source": [
    "## open the overlaps files\n",
    "\n",
    "overlap_sentences_eng = []\n",
    "\n",
    "with open(\"/Users/u0154817/OneDrive - KU Leuven/Documents/KU Leuven/PhD project 'Greek Spaces in Roman Times'/Data_Extraction/Python Scripts/check/pliny/overlaps.eng\", \"r\") as file:\n",
    "    for line in file:\n",
    "        overlap_sentences_eng.append(line)"
   ]
  },
  {
   "cell_type": "markdown",
   "id": "482e91b7",
   "metadata": {},
   "source": [
    "Vecalign generated 5,046 overlap sentences for English."
   ]
  },
  {
   "cell_type": "code",
   "execution_count": null,
   "id": "bcba7eb5",
   "metadata": {},
   "outputs": [],
   "source": [
    "len(overlap_sentences_eng)"
   ]
  },
  {
   "cell_type": "code",
   "execution_count": null,
   "id": "2e79a988",
   "metadata": {},
   "outputs": [],
   "source": [
    "overlap_sentences_lat = []\n",
    "\n",
    "with open(\"/Users/u0154817/OneDrive - KU Leuven/Documents/KU Leuven/PhD project 'Greek Spaces in Roman Times'/Data_Extraction/Python Scripts/check/pliny/overlaps.lat\", \"r\") as file:\n",
    "    for line in file:\n",
    "        overlap_sentences_lat.append(line)"
   ]
  },
  {
   "cell_type": "markdown",
   "id": "d5c09b05",
   "metadata": {},
   "source": [
    "Vecalign generated 5,133 overlap sentences for Latin."
   ]
  },
  {
   "cell_type": "code",
   "execution_count": null,
   "id": "bab97389",
   "metadata": {},
   "outputs": [],
   "source": [
    "len(overlap_sentences_lat)"
   ]
  },
  {
   "cell_type": "code",
   "execution_count": null,
   "id": "00e52a88",
   "metadata": {},
   "outputs": [],
   "source": [
    "overlap_sentences_lat_lemm = []\n",
    "\n",
    "with open(\"/Users/u0154817/OneDrive - KU Leuven/Documents/KU Leuven/PhD project 'Greek Spaces in Roman Times'/Data_Extraction/Python Scripts/check/pliny/overlaps.lat_lemm\", \"r\") as file:\n",
    "    for line in file:\n",
    "        overlap_sentences_lat_lemm.append(line)"
   ]
  },
  {
   "cell_type": "code",
   "execution_count": null,
   "id": "be422428",
   "metadata": {},
   "outputs": [],
   "source": [
    "## import the S-BERT Python library sentence_transformer\n",
    "\n",
    "import sentence_transformers"
   ]
  },
  {
   "cell_type": "code",
   "execution_count": null,
   "id": "a0dce64d",
   "metadata": {},
   "outputs": [],
   "source": [
    "from sentence_transformers import SentenceTransformer"
   ]
  },
  {
   "cell_type": "code",
   "execution_count": null,
   "id": "bdb44d79",
   "metadata": {},
   "outputs": [],
   "source": [
    "## use the LaBSE model\n",
    "\n",
    "model = SentenceTransformer('sentence-transformers/LaBSE')"
   ]
  },
  {
   "cell_type": "markdown",
   "id": "adf82d5e",
   "metadata": {},
   "source": [
    "The SentenceTransformer takes the overlap files as input to generate sentence embeddings."
   ]
  },
  {
   "cell_type": "code",
   "execution_count": null,
   "id": "5414beb3",
   "metadata": {},
   "outputs": [],
   "source": [
    "overlaps_embeddings_eng_LaBSE = model.encode(overlap_sentences_eng)"
   ]
  },
  {
   "cell_type": "code",
   "execution_count": null,
   "id": "7f8786fd",
   "metadata": {},
   "outputs": [],
   "source": [
    "overlaps_embeddings_lat_LaBSE = model.encode(overlap_sentences_lat)"
   ]
  },
  {
   "cell_type": "code",
   "execution_count": null,
   "id": "1c38a78c",
   "metadata": {},
   "outputs": [],
   "source": [
    "overlaps_embeddings_lat_LaBSE = model.encode(overlap_sentences_lat_lemm)"
   ]
  },
  {
   "cell_type": "code",
   "execution_count": null,
   "id": "09a753da",
   "metadata": {},
   "outputs": [],
   "source": [
    "## store the embeddings in a raw binary file\n",
    "\n",
    "overlaps_embeddings_eng_LaBSE.tofile('overlaps.eng.LaBSE.emb')\n",
    "overlaps_embeddings_lat_LaBSE.tofile('overlaps.lat.LaBSE.emb')\n",
    "overlaps_embeddings_lat_LaBSE.tofile('overlaps.lat_lemm.LaBSE.emb')"
   ]
  },
  {
   "cell_type": "markdown",
   "id": "c8d542b7",
   "metadata": {},
   "source": [
    "Using the Vecalign script vecalign.py (partially modified), the code takes as input the originary files containing the sentences, the overlap files, the files containing the embeddings. The output of the alignment is a list of indexes pairs and a float number with the compute of the alignment cost.\n",
    "\n",
    "The modification of the vecalign.py file consisted in generating a .TXT file containing the output of the alignment."
   ]
  },
  {
   "cell_type": "code",
   "execution_count": null,
   "id": "10774fe1",
   "metadata": {
    "scrolled": true
   },
   "outputs": [],
   "source": [
    "!python vecalign.py --alignment_max_size 8 --src pliny/4.2.Sentences_Eng --tgt pliny/4.4.Sentences_Lat \\\n",
    "   --src_embed pliny/overlaps.eng pliny/overlaps.eng.LaBSE.emb  \\\n",
    "   --tgt_embed pliny/overlaps.lat pliny/overlaps.lat.LaBSE.emb"
   ]
  },
  {
   "cell_type": "code",
   "execution_count": null,
   "id": "3913d309",
   "metadata": {},
   "outputs": [],
   "source": [
    "!python vecalign.py --alignment_max_size 8 --src pliny/4.2.Sentences_Eng --tgt pliny/4.4.Sentences_Lat_lemm \\\n",
    "   --src_embed pliny/overlaps.eng pliny/overlaps.eng.LaBSE.emb  \\\n",
    "   --tgt_embed pliny/overlaps.lat_lemm pliny/overlaps.lat_lemm.LaBSE.emb"
   ]
  }
 ],
 "metadata": {
  "kernelspec": {
   "display_name": "Python 3 (ipykernel)",
   "language": "python",
   "name": "python3"
  },
  "language_info": {
   "codemirror_mode": {
    "name": "ipython",
    "version": 3
   },
   "file_extension": ".py",
   "mimetype": "text/x-python",
   "name": "python",
   "nbconvert_exporter": "python",
   "pygments_lexer": "ipython3",
   "version": "3.9.13"
  }
 },
 "nbformat": 4,
 "nbformat_minor": 5
}
