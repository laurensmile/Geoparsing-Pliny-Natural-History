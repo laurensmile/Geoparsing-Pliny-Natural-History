{
 "cells": [
  {
   "cell_type": "markdown",
   "id": "e5348c9b",
   "metadata": {},
   "source": [
    "# Evaluation of ToposText Annotation in Book 4"
   ]
  },
  {
   "cell_type": "markdown",
   "id": "b4da7682",
   "metadata": {},
   "source": [
    "To assess the accuracy of the ToposText annotation, metrics such as Precision, Recall, and F1 Score were employed by comparing it against a Gold Standard for Book 4. Initially, the ToposText annotations were transformed into the IOB2 format using the  reference (book, chapter, paragraph) and starting positions.\n",
    "\n",
    "The evaluation revealed that ToposText's annotations exhibit good quality (F1 Score: 0.800), characterized by a notably high Precision (0.991). However, the Recall metric was comparatively lower (0.671), indicating instances where certain entities were not successfully annotated. Specifically, the assessment identified 1,296 instances of true positives, 635 instances of false negatives, and 11 instances of false positives.\n",
    "\n",
    "Several observations emerged from this evaluation:\n",
    "\n",
    "- Some occurrences exist where ToposText marks a place entity, but erroneously assigns an incorrect label (e.g., 'Asia' linked to a 'people' ToposText ID without a Class label).\n",
    "- Inconsistencies were noted in some cases, where the labeling in ToposText diverged from the designated Class (e.g., an entity labeled as 'demonym' or 'ethnic' in Class, but designated as 'place' in the ToposText ID).\n",
    "- When using the 'Class' labeling, ToposText annotations yielded a higher Precision compared to using the ToposText ID, although this was accompanied by a lower Recall.\n",
    "\n",
    "In summary, the evaluation indicated that ToposText serves as a robust foundation for the annotation process. However, there's a need for expansion of the existing annotation due to the identified discrepancies and limitations."
   ]
  },
  {
   "cell_type": "code",
   "execution_count": null,
   "id": "d6928be9",
   "metadata": {},
   "outputs": [],
   "source": [
    "import pandas as pd"
   ]
  },
  {
   "cell_type": "code",
   "execution_count": null,
   "id": "6f74df53",
   "metadata": {},
   "outputs": [],
   "source": [
    "## open the Gold Standard of Book 4 (18,664 rows)\n",
    "GoldStandard_Book4 = pd.read_excel(\"/Users/u0154817/OneDrive - KU Leuven/Documents/KU Leuven/PhD project 'Greek Spaces in Roman Times'/Data_Extraction/Outputs/1.4.GoldStandard_Book4.xlsx\")"
   ]
  },
  {
   "cell_type": "code",
   "execution_count": null,
   "id": "86e5668c",
   "metadata": {},
   "outputs": [],
   "source": [
    "len(GoldStandard_Book4)"
   ]
  },
  {
   "cell_type": "code",
   "execution_count": null,
   "id": "6e7c8f92",
   "metadata": {},
   "outputs": [],
   "source": [
    "## open the file containing the ToposText annotations in Book 4 (1,888 rows)\n",
    "ToposText_Book4 = pd.read_csv(\"/Users/u0154817/OneDrive - KU Leuven/Documents/KU Leuven/PhD project 'Greek Spaces in Roman Times'/Data_Extraction/Outputs/1.2.ToposText_Annotations_Book_4.csv\", delimiter=\",\")"
   ]
  },
  {
   "cell_type": "code",
   "execution_count": null,
   "id": "9f6b0c10",
   "metadata": {},
   "outputs": [],
   "source": [
    "len(ToposText_Book4)"
   ]
  },
  {
   "cell_type": "markdown",
   "id": "706f4d3b",
   "metadata": {},
   "source": [
    "# Convert ToposText annotation to IOB format"
   ]
  },
  {
   "cell_type": "markdown",
   "id": "085a1f11",
   "metadata": {},
   "source": [
    "The ToposText annotations of Class and ToposText ID are appended to the Gold Standard dataframe using the reference and start position. In case of multi-word entities annotated together in ToposText (i.e., 'Corinthian Gulf'), each word is annotated separately in the dataset. The first word is indicated with 'B-', the following words with 'I-' according to the IOB style.\n",
    "\n",
    "Notice that while some annotations are not associated with a Class, all the annotations are linked with a ToposText ID, as it was observed in the notebook '1.3.Explore_ToposText_Annotations_Book4'."
   ]
  },
  {
   "cell_type": "code",
   "execution_count": null,
   "id": "84dfab0f",
   "metadata": {
    "scrolled": true
   },
   "outputs": [],
   "source": [
    "## create two new columns in the Gold Standard dataframe\n",
    "GoldStandard_Book4['ToposText'] = 'O' ## column for the Class\n",
    "GoldStandard_Book4['ToposText_ID'] = 'O' ## column for the ToposText ID"
   ]
  },
  {
   "cell_type": "code",
   "execution_count": null,
   "id": "43641ff4",
   "metadata": {
    "scrolled": false
   },
   "outputs": [],
   "source": [
    "for i1, topostext_annotation in enumerate(ToposText_Book4['Tagged Entity']): ## for each ToposText annotation \n",
    "        \n",
    "    reference = ToposText_Book4['Reference'][i1] ## get the reference (book, chapter, paragraph)\n",
    "    start_position = ToposText_Book4['Start position'][i1] ## get the start position\n",
    "    \n",
    "    for i2, manual_annotation in enumerate(GoldStandard_Book4['Token']): ## for each token in the Gold Standard\n",
    "        \n",
    "        if GoldStandard_Book4['Start_pos'][i2] == start_position: ## if the start position is the same\n",
    "            if GoldStandard_Book4['Reference'][i2] == reference: ## if the reference is the same\n",
    "                                \n",
    "                GoldStandard_Book4['ToposText'][i2] = 'B-'+str(ToposText_Book4['Class'][i1]) ## update the ToposText column\n",
    "                GoldStandard_Book4['ToposText_ID'][i2] = 'B-'+str(ToposText_Book4['ToposText ID'][i1]) ## update the ToposText ID column\n",
    "                \n",
    "                topostext_annotation = topostext_annotation.split() ## split the text annotated in ToposText\n",
    "                if len(topostext_annotation) > 1: ## if the annotation contains more than one word\n",
    "                                        \n",
    "                    for i3, word in enumerate(topostext_annotation): ## for each word\n",
    "                        \n",
    "                        if i3 > 0: ## except the first one\n",
    "                                                        \n",
    "                            GoldStandard_Book4['ToposText'][i2+i3] = 'I-'+str(ToposText_Book4['Class'][i1]) ## update the corresponding ToposText column\n",
    "                            GoldStandard_Book4['ToposText_ID'][i2+i3] = 'I-'+str(ToposText_Book4['ToposText ID'][i1]) ## update the corresponding ToposText ID column"
   ]
  },
  {
   "cell_type": "markdown",
   "id": "3f0cb5d5",
   "metadata": {},
   "source": [
    "# Calculate Precision, Recall, F1 Score"
   ]
  },
  {
   "cell_type": "markdown",
   "id": "d39f9d1a",
   "metadata": {},
   "source": [
    "To calculate the Precision, Recall and F1 Score, the lists of True Positives (TP), False Negatives (FN) and False Positives (FP) are generated from the dataset containing the Gold Standard and the ToposText annotations.\n",
    "\n",
    "The code takes into account that different guidelines and entity boundaries were adopted in the Gold Standard and in ToposText, with the result that the same entity (i.e., 'Mount Pindus') could be annotated in different ways (i.e., including or not the word 'Mount'). An annotation was counted as TP even if only a part of the entity was present in ToposText (i.e., 'Pindus' for 'Mount Pindus'). In other words, also partial matches are valid.\n",
    "\n",
    "The evaluation was performed inspecting the 'Class' label and the ToposText ID. It was observed that in some cases the labelling is inconsistent (i.e., the entity is classified as 'person' in 'Class' but it is linked to a 'place' ToposText ID). We compared the Precision of the annotation considering separately (1) the 'Class' and (2) the ToposText ID. We observed that using the 'Class' the annotation has a lower Recall, but higher Precision, because the number of FN increases (from 599 to 635), but the number of FP drops from 183 to 11."
   ]
  },
  {
   "cell_type": "markdown",
   "id": "58ab6f2d",
   "metadata": {},
   "source": [
    "# ToposText Class place"
   ]
  },
  {
   "cell_type": "code",
   "execution_count": null,
   "id": "06964486",
   "metadata": {},
   "outputs": [],
   "source": [
    "## create a copy of the ToposText column\n",
    "GoldStandard_Book4['ToposText_copy'] = GoldStandard_Book4['ToposText']\n",
    "\n",
    "## the function transform all the annotations not including 'place' into O\n",
    "def update_values(value):\n",
    "    if 'place' not in value:\n",
    "        return 'O'\n",
    "    return value\n",
    "\n",
    "GoldStandard_Book4['ToposText_copy'] = GoldStandard_Book4['ToposText_copy'].apply(update_values)"
   ]
  },
  {
   "cell_type": "code",
   "execution_count": null,
   "id": "5eea65d4",
   "metadata": {},
   "outputs": [],
   "source": [
    "GoldStandard_Book4['ToposText_copy'].unique() ## the new column contains only O, B-LOC and I-LOC"
   ]
  },
  {
   "cell_type": "markdown",
   "id": "9f210d4b",
   "metadata": {},
   "source": [
    "**Compute True Positive and False Negatives including partial matches**"
   ]
  },
  {
   "cell_type": "code",
   "execution_count": null,
   "id": "d371462e",
   "metadata": {},
   "outputs": [],
   "source": [
    "True_Positives = [] ## create a list of true positives\n",
    "False_Negatives = [] ## create a list of false negatives"
   ]
  },
  {
   "cell_type": "code",
   "execution_count": null,
   "id": "1230b279",
   "metadata": {},
   "outputs": [],
   "source": [
    "for index, manual_annotation in enumerate(GoldStandard_Book4['Manual_Annotation']): ## for each token in the Gold Standard\n",
    "        \n",
    "    if manual_annotation == 'B-LOC': ## for each B-LOC entity in the Gold Standard\n",
    "        \n",
    "        ## create a tuple containing the reference and start position\n",
    "        reference_startpos = (GoldStandard_Book4['Reference'][index], GoldStandard_Book4['Start_pos'][index])\n",
    "        \n",
    "        if len(GoldStandard_Book4['ToposText_copy'][index]) > 1: ## if ToposText annotated the token\n",
    "            True_Positives.append(reference_startpos) ## it is a true positive\n",
    "            \n",
    "        else: ## if ToposText did not annotated the token\n",
    "            \n",
    "            if GoldStandard_Book4['Manual_Annotation'][index+1] != 'I-LOC': ## if B-LOC is not followed by I-LOC\n",
    "                False_Negatives.append(reference_startpos) ## it is a false negative\n",
    "            \n",
    "            else: ## if B-LOC is followed by I-LOC\n",
    "                \n",
    "                flag = False\n",
    "                \n",
    "                for n in range(1,100):\n",
    "                    \n",
    "                    if GoldStandard_Book4['Manual_Annotation'][index+n] == 'I-LOC': ## inside the multi-word LOC entity\n",
    "                        \n",
    "                        if len(GoldStandard_Book4['ToposText_copy'][index+n]) > 1: ## if ToposText annotated the token\n",
    "                            True_Positives.append((GoldStandard_Book4['Reference'][index+n], GoldStandard_Book4['Start_pos'][index+n])) ## it is a true positive\n",
    "                            flag = True\n",
    "                            break\n",
    "                            \n",
    "                    else: break\n",
    "                        \n",
    "                if flag == False: ## no entity was predicted in the span\n",
    "                    False_Negatives.append(reference_startpos) ## it is a false negative"
   ]
  },
  {
   "cell_type": "code",
   "execution_count": null,
   "id": "787fe1ea",
   "metadata": {},
   "outputs": [],
   "source": [
    "len(True_Positives)"
   ]
  },
  {
   "cell_type": "code",
   "execution_count": null,
   "id": "45dd5c14",
   "metadata": {},
   "outputs": [],
   "source": [
    "len(False_Negatives)"
   ]
  },
  {
   "cell_type": "markdown",
   "id": "1680e119",
   "metadata": {},
   "source": [
    "**Compute False Positives**"
   ]
  },
  {
   "cell_type": "code",
   "execution_count": null,
   "id": "8d7fed01",
   "metadata": {},
   "outputs": [],
   "source": [
    "False_Positives = [] ## create a list of false positives"
   ]
  },
  {
   "cell_type": "code",
   "execution_count": null,
   "id": "66167c84",
   "metadata": {},
   "outputs": [],
   "source": [
    "for index, ToposText_annotation in enumerate(GoldStandard_Book4['ToposText_copy']):\n",
    "        \n",
    "    if ToposText_annotation == \"B-['place']\" : ## for each B-place ToposText annotation\n",
    "        \n",
    "        ## create a tuple containing the reference and start position\n",
    "        reference_startpos = (GoldStandard_Book4['Reference'][index], GoldStandard_Book4['Start_pos'][index])\n",
    "        \n",
    "        if len(GoldStandard_Book4['Manual_Annotation'][index]) == 1: ## if the Gold Standard does not contain an entity\n",
    "            \n",
    "            if GoldStandard_Book4['ToposText_copy'][index+1] != \"I-['place']\" : ## if B-place is not followed by I-place\n",
    "                False_Positives.append(reference_startpos) ## it is a false positive\n",
    "        \n",
    "        else: ## if B-place is followed by I-place\n",
    "            \n",
    "            flag = False\n",
    "            \n",
    "            for n in range(1,100):\n",
    "                \n",
    "                if GoldStandard_Book4['ToposText_copy'][index+1] == \"I-['place']\": ## inside the multi-word place annotation\n",
    "                    \n",
    "                    if len(GoldStandard_Book4['Manual_Annotation'][index+n]) > 1: ## the Gold Standard contains an entity\n",
    "                        flag = True\n",
    "                        break\n",
    "                        \n",
    "                else: break\n",
    "                        \n",
    "                if flag == False:\n",
    "                    False_Positives.append(reference_startpos) ## it is a false positive"
   ]
  },
  {
   "cell_type": "code",
   "execution_count": null,
   "id": "1359a435",
   "metadata": {},
   "outputs": [],
   "source": [
    "len(False_Positives)"
   ]
  },
  {
   "cell_type": "markdown",
   "id": "ebd0f9de",
   "metadata": {},
   "source": [
    "The ToposText annotation has a Precision of 0.991."
   ]
  },
  {
   "cell_type": "code",
   "execution_count": null,
   "id": "ce2e0965",
   "metadata": {},
   "outputs": [],
   "source": [
    "## calculate precision\n",
    "\n",
    "Precision = len(True_Positives) / (len(True_Positives) + len(False_Positives))\n",
    "Precision"
   ]
  },
  {
   "cell_type": "markdown",
   "id": "424ba693",
   "metadata": {},
   "source": [
    "The ToposText annotation has a Recall of 0.671."
   ]
  },
  {
   "cell_type": "code",
   "execution_count": null,
   "id": "3a4a016c",
   "metadata": {},
   "outputs": [],
   "source": [
    "## calculate recall\n",
    "\n",
    "Recall = len(True_Positives) / (len(True_Positives) + len(False_Negatives))\n",
    "Recall"
   ]
  },
  {
   "cell_type": "markdown",
   "id": "6def1e96",
   "metadata": {},
   "source": [
    "The ToposText annotation has a F1 score of 0.800."
   ]
  },
  {
   "cell_type": "code",
   "execution_count": null,
   "id": "c716da0d",
   "metadata": {},
   "outputs": [],
   "source": [
    "## calculate F1 Score\n",
    "\n",
    "F1 = 2 * (Precision * Recall) / (Precision + Recall)\n",
    "F1"
   ]
  },
  {
   "cell_type": "markdown",
   "id": "2778f494",
   "metadata": {},
   "source": [
    "# ToposText ID"
   ]
  },
  {
   "cell_type": "code",
   "execution_count": null,
   "id": "08df3c46",
   "metadata": {},
   "outputs": [],
   "source": [
    "## create a copy of the ToposText column\n",
    "GoldStandard_Book4['ToposText_ID_copy'] = GoldStandard_Book4['ToposText_ID']\n",
    "\n",
    "## the function trasnform all the ID not including 'place' into O\n",
    "def update_values(value):\n",
    "    if 'place' not in value:\n",
    "        return 'O'\n",
    "    return value\n",
    "\n",
    "GoldStandard_Book4['ToposText_ID_copy'] = GoldStandard_Book4['ToposText_ID_copy'].apply(update_values)"
   ]
  },
  {
   "cell_type": "markdown",
   "id": "c2a14adc",
   "metadata": {},
   "source": [
    "**Compute True Positive and False Negatives including partial matches**"
   ]
  },
  {
   "cell_type": "code",
   "execution_count": null,
   "id": "6e3a9c76",
   "metadata": {},
   "outputs": [],
   "source": [
    "True_Positives = [] ## create a list of true positives\n",
    "False_Negatives = [] ## create a list of false negatives"
   ]
  },
  {
   "cell_type": "code",
   "execution_count": null,
   "id": "74e4c505",
   "metadata": {},
   "outputs": [],
   "source": [
    "for index, manual_annotation in enumerate(GoldStandard_Book4['Manual_Annotation']): ## for each token in the Gold Standard\n",
    "        \n",
    "    if manual_annotation == 'B-LOC': ## for each B-LOC entity in the Gold Standard\n",
    "        \n",
    "        ## create a tuple containing the reference and start position\n",
    "        reference_startpos = (GoldStandard_Book4['Reference'][index], GoldStandard_Book4['Start_pos'][index])\n",
    "        \n",
    "        if len(GoldStandard_Book4['ToposText_ID_copy'][index]) > 1: ## if ToposText annotated the token\n",
    "            True_Positives.append(reference_startpos) ## it is a true positive\n",
    "            \n",
    "        else: ## if ToposText did not annotated the token\n",
    "            \n",
    "            if GoldStandard_Book4['Manual_Annotation'][index+1] != 'I-LOC': ## if B-LOC is not followed by I-LOC\n",
    "                False_Negatives.append(reference_startpos) ## it is a false negative\n",
    "            \n",
    "            else: ## if B-LOC is followed by I-LOC\n",
    "                \n",
    "                flag = False\n",
    "                \n",
    "                for n in range(1,100):\n",
    "                    \n",
    "                    if GoldStandard_Book4['Manual_Annotation'][index+n] == 'I-LOC': ## inside the multi-word LOC entity\n",
    "                        \n",
    "                        if len(GoldStandard_Book4['ToposText_ID_copy'][index+n]) > 1: ## if ToposText annotated the token\n",
    "                            True_Positives.append((GoldStandard_Book4['Reference'][index+n], GoldStandard_Book4['Start_pos'][index+n])) ## it is a true positive\n",
    "                            flag = True\n",
    "                            break\n",
    "                            \n",
    "                    else: break\n",
    "                        \n",
    "                if flag == False: ## no entity was predicted in the span\n",
    "                    False_Negatives.append(reference_startpos) ## it is a false negative"
   ]
  },
  {
   "cell_type": "markdown",
   "id": "c785cc8e",
   "metadata": {},
   "source": [
    "**Compute False Positives**"
   ]
  },
  {
   "cell_type": "code",
   "execution_count": null,
   "id": "a8444de4",
   "metadata": {},
   "outputs": [],
   "source": [
    "False_Positives = [] ## create a list of false positives"
   ]
  },
  {
   "cell_type": "code",
   "execution_count": null,
   "id": "49af1eb0",
   "metadata": {},
   "outputs": [],
   "source": [
    "for index, ToposText_annotation in enumerate(GoldStandard_Book4['ToposText_ID_copy']):\n",
    "        \n",
    "    if ToposText_annotation.startswith(\"B-\") : ## for each B-place annotation\n",
    "        \n",
    "        ## create a tuple containing the reference and start position\n",
    "        reference_startpos = (GoldStandard_Book4['Reference'][index], GoldStandard_Book4['Start_pos'][index])\n",
    "        \n",
    "        if len(GoldStandard_Book4['Manual_Annotation'][index]) == 1: ## if the Gold Standard does not contain an entity\n",
    "            \n",
    "            if \"I-\" not in GoldStandard_Book4['ToposText_ID_copy'][index+1] : ## if B-place is not followed by I-place\n",
    "                False_Positives.append(reference_startpos) ## it is a false positive\n",
    "        \n",
    "        else: ## if B-place is followed by I-place\n",
    "            \n",
    "            flag = False\n",
    "            \n",
    "            for n in range(1,100):\n",
    "                \n",
    "                if GoldStandard_Book4['ToposText_ID_copy'][index+1].startswith(\"I-\") : ## inside the multi-word place annotation\n",
    "                    \n",
    "                    if len(GoldStandard_Book4['Manual_Annotation'][index+n]) > 1: ## the Gold Standard contains an entity\n",
    "                        flag = True\n",
    "                        break\n",
    "                        \n",
    "                else: break\n",
    "                        \n",
    "                if flag == False:\n",
    "                    False_Positives.append(reference_startpos) ## it is a false positive"
   ]
  }
 ],
 "metadata": {
  "kernelspec": {
   "display_name": "Python 3 (ipykernel)",
   "language": "python",
   "name": "python3"
  },
  "language_info": {
   "codemirror_mode": {
    "name": "ipython",
    "version": 3
   },
   "file_extension": ".py",
   "mimetype": "text/x-python",
   "name": "python",
   "nbconvert_exporter": "python",
   "pygments_lexer": "ipython3",
   "version": "3.9.13"
  }
 },
 "nbformat": 4,
 "nbformat_minor": 5
}
